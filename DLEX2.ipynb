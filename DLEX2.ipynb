{
  "nbformat": 4,
  "nbformat_minor": 0,
  "metadata": {
    "colab": {
      "provenance": []
    },
    "kernelspec": {
      "name": "python3",
      "display_name": "Python 3"
    },
    "language_info": {
      "name": "python"
    }
  },
  "cells": [
    {
      "cell_type": "code",
      "source": [
        "import pandas as pd\n",
        "from sklearn.model_selection import train_test_split\n",
        "from tensorflow.keras.models import Sequential\n",
        "from tensorflow.keras.models import load_model\n",
        "import pickle\n",
        "from tensorflow.keras.layers import Dense\n",
        "from tensorflow.keras.layers import Dropout\n",
        "from tensorflow.keras.layers import BatchNormalization\n",
        "import tensorflow as tf\n",
        "import seaborn as sns\n",
        "from tensorflow.keras.callbacks import EarlyStopping\n",
        "from sklearn.preprocessing import MinMaxScaler\n",
        "from sklearn.preprocessing import LabelEncoder\n",
        "from sklearn.preprocessing import OneHotEncoder\n",
        "from sklearn.preprocessing import OrdinalEncoder\n",
        "from sklearn.metrics import classification_report,confusion_matrix\n",
        "import numpy as np\n",
        "import matplotlib.pylab as plt"
      ],
      "metadata": {
        "id": "Pt7QLyTmH1m4"
      },
      "execution_count": 76,
      "outputs": []
    },
    {
      "cell_type": "code",
      "source": [
        "customer_df = pd.read_csv('/content/drive/MyDrive/customers.csv')\n",
        "customer_df_cleaned=customer_df.dropna(axis=0)"
      ],
      "metadata": {
        "id": "zzN_wvO6BNMY"
      },
      "execution_count": 77,
      "outputs": []
    },
    {
      "cell_type": "code",
      "source": [
        "customer_df.columns"
      ],
      "metadata": {
        "colab": {
          "base_uri": "https://localhost:8080/"
        },
        "id": "xbUAlaX3NQqp",
        "outputId": "ee1b284b-81b7-47e5-e623-45747560fa61"
      },
      "execution_count": 78,
      "outputs": [
        {
          "output_type": "execute_result",
          "data": {
            "text/plain": [
              "Index(['ID', 'Gender', 'Ever_Married', 'Age', 'Graduated', 'Profession',\n",
              "       'Work_Experience', 'Spending_Score', 'Family_Size', 'Var_1',\n",
              "       'Segmentation'],\n",
              "      dtype='object')"
            ]
          },
          "metadata": {},
          "execution_count": 78
        }
      ]
    },
    {
      "cell_type": "code",
      "source": [
        "customer_df.shape"
      ],
      "metadata": {
        "colab": {
          "base_uri": "https://localhost:8080/"
        },
        "id": "uO51cYHVNVFp",
        "outputId": "57688503-bb2d-4c4d-afb0-694e180b4c10"
      },
      "execution_count": 79,
      "outputs": [
        {
          "output_type": "execute_result",
          "data": {
            "text/plain": [
              "(10695, 11)"
            ]
          },
          "metadata": {},
          "execution_count": 79
        }
      ]
    },
    {
      "cell_type": "code",
      "source": [
        "customer_df.isnull().sum()"
      ],
      "metadata": {
        "colab": {
          "base_uri": "https://localhost:8080/"
        },
        "id": "Jts9ENA5NXX0",
        "outputId": "fc2e2854-4038-4a53-8774-783206d9ab7f"
      },
      "execution_count": 80,
      "outputs": [
        {
          "output_type": "execute_result",
          "data": {
            "text/plain": [
              "ID                    0\n",
              "Gender                0\n",
              "Ever_Married        190\n",
              "Age                   0\n",
              "Graduated           102\n",
              "Profession          162\n",
              "Work_Experience    1098\n",
              "Spending_Score        0\n",
              "Family_Size         448\n",
              "Var_1               108\n",
              "Segmentation          0\n",
              "dtype: int64"
            ]
          },
          "metadata": {},
          "execution_count": 80
        }
      ]
    },
    {
      "cell_type": "code",
      "source": [
        "customer_df_cleaned = customer_df.dropna(axis=0)"
      ],
      "metadata": {
        "id": "Ex3tk39aNeql"
      },
      "execution_count": 81,
      "outputs": []
    },
    {
      "cell_type": "code",
      "source": [
        "customer_df_cleaned.isnull().sum()"
      ],
      "metadata": {
        "colab": {
          "base_uri": "https://localhost:8080/"
        },
        "id": "KULy6L8-NiwR",
        "outputId": "84ab9830-b820-47b8-9ff5-602b45e61a0f"
      },
      "execution_count": 82,
      "outputs": [
        {
          "output_type": "execute_result",
          "data": {
            "text/plain": [
              "ID                 0\n",
              "Gender             0\n",
              "Ever_Married       0\n",
              "Age                0\n",
              "Graduated          0\n",
              "Profession         0\n",
              "Work_Experience    0\n",
              "Spending_Score     0\n",
              "Family_Size        0\n",
              "Var_1              0\n",
              "Segmentation       0\n",
              "dtype: int64"
            ]
          },
          "metadata": {},
          "execution_count": 82
        }
      ]
    },
    {
      "cell_type": "code",
      "source": [
        "customer_df_cleaned.shape"
      ],
      "metadata": {
        "colab": {
          "base_uri": "https://localhost:8080/"
        },
        "id": "5QRGgx2vNmYH",
        "outputId": "0b4dd966-d6cc-4506-d1ca-2a5384a7302c"
      },
      "execution_count": 83,
      "outputs": [
        {
          "output_type": "execute_result",
          "data": {
            "text/plain": [
              "(8819, 11)"
            ]
          },
          "metadata": {},
          "execution_count": 83
        }
      ]
    },
    {
      "cell_type": "code",
      "source": [
        "customer_df_cleaned.dtypes"
      ],
      "metadata": {
        "colab": {
          "base_uri": "https://localhost:8080/"
        },
        "id": "uX7kGdfwNpWN",
        "outputId": "b12eb14a-59e9-43a6-bb43-5cd1d38aa4cb"
      },
      "execution_count": 84,
      "outputs": [
        {
          "output_type": "execute_result",
          "data": {
            "text/plain": [
              "ID                   int64\n",
              "Gender              object\n",
              "Ever_Married        object\n",
              "Age                  int64\n",
              "Graduated           object\n",
              "Profession          object\n",
              "Work_Experience    float64\n",
              "Spending_Score      object\n",
              "Family_Size        float64\n",
              "Var_1               object\n",
              "Segmentation        object\n",
              "dtype: object"
            ]
          },
          "metadata": {},
          "execution_count": 84
        }
      ]
    },
    {
      "cell_type": "code",
      "source": [
        "customer_df_cleaned['Gender'].unique()"
      ],
      "metadata": {
        "colab": {
          "base_uri": "https://localhost:8080/"
        },
        "id": "ZOLZWD9WNsxt",
        "outputId": "0a39ec86-dd6c-4bc8-ba0c-6b8f7f1c5f8a"
      },
      "execution_count": 85,
      "outputs": [
        {
          "output_type": "execute_result",
          "data": {
            "text/plain": [
              "array(['Male', 'Female'], dtype=object)"
            ]
          },
          "metadata": {},
          "execution_count": 85
        }
      ]
    },
    {
      "cell_type": "code",
      "source": [
        "customer_df_cleaned['Ever_Married'].unique()"
      ],
      "metadata": {
        "colab": {
          "base_uri": "https://localhost:8080/"
        },
        "id": "3-hbaZW6Nvy3",
        "outputId": "b33b8a2f-7ef4-4ffd-8fa2-f3a31a03b156"
      },
      "execution_count": 86,
      "outputs": [
        {
          "output_type": "execute_result",
          "data": {
            "text/plain": [
              "array(['No', 'Yes'], dtype=object)"
            ]
          },
          "metadata": {},
          "execution_count": 86
        }
      ]
    },
    {
      "cell_type": "code",
      "source": [
        "customer_df_cleaned['Graduated'].unique()"
      ],
      "metadata": {
        "colab": {
          "base_uri": "https://localhost:8080/"
        },
        "id": "IhyeNU92Nyp4",
        "outputId": "f8d52d3b-b351-4a68-e72d-b0449f6d901f"
      },
      "execution_count": 87,
      "outputs": [
        {
          "output_type": "execute_result",
          "data": {
            "text/plain": [
              "array(['No', 'Yes'], dtype=object)"
            ]
          },
          "metadata": {},
          "execution_count": 87
        }
      ]
    },
    {
      "cell_type": "code",
      "source": [
        "customer_df_cleaned['Profession'].unique()\n"
      ],
      "metadata": {
        "colab": {
          "base_uri": "https://localhost:8080/"
        },
        "id": "BDYKBCZiN1jc",
        "outputId": "a4941a1f-711f-4655-dfd1-d5351f4d99ad"
      },
      "execution_count": 88,
      "outputs": [
        {
          "output_type": "execute_result",
          "data": {
            "text/plain": [
              "array(['Healthcare', 'Engineer', 'Lawyer', 'Artist', 'Doctor',\n",
              "       'Homemaker', 'Entertainment', 'Marketing', 'Executive'],\n",
              "      dtype=object)"
            ]
          },
          "metadata": {},
          "execution_count": 88
        }
      ]
    },
    {
      "cell_type": "code",
      "source": [
        "customer_df_cleaned['Spending_Score'].unique()"
      ],
      "metadata": {
        "colab": {
          "base_uri": "https://localhost:8080/"
        },
        "id": "iy4DgKkgN3nr",
        "outputId": "f4e19e67-b6ea-46f4-f10f-4e432d340255"
      },
      "execution_count": 89,
      "outputs": [
        {
          "output_type": "execute_result",
          "data": {
            "text/plain": [
              "array(['Low', 'High', 'Average'], dtype=object)"
            ]
          },
          "metadata": {},
          "execution_count": 89
        }
      ]
    },
    {
      "cell_type": "code",
      "source": [
        "customer_df_cleaned['Var_1'].unique()"
      ],
      "metadata": {
        "colab": {
          "base_uri": "https://localhost:8080/"
        },
        "id": "aKDxEccEN6nc",
        "outputId": "f1d346dd-1a95-4934-fe8f-a00a3e0c1a24"
      },
      "execution_count": 90,
      "outputs": [
        {
          "output_type": "execute_result",
          "data": {
            "text/plain": [
              "array(['Cat_4', 'Cat_6', 'Cat_7', 'Cat_3', 'Cat_1', 'Cat_2', 'Cat_5'],\n",
              "      dtype=object)"
            ]
          },
          "metadata": {},
          "execution_count": 90
        }
      ]
    },
    {
      "cell_type": "code",
      "source": [
        "customer_df_cleaned['Segmentation'].unique()"
      ],
      "metadata": {
        "colab": {
          "base_uri": "https://localhost:8080/"
        },
        "id": "u5kqfjrLN9EY",
        "outputId": "54b1a991-c368-4174-902a-890cd501a7f5"
      },
      "execution_count": 91,
      "outputs": [
        {
          "output_type": "execute_result",
          "data": {
            "text/plain": [
              "array(['D', 'B', 'C', 'A'], dtype=object)"
            ]
          },
          "metadata": {},
          "execution_count": 91
        }
      ]
    },
    {
      "cell_type": "code",
      "source": [
        "categories_list=[['Male', 'Female'],\n",
        "           ['No', 'Yes'],\n",
        "           ['No', 'Yes'],\n",
        "           ['Healthcare', 'Engineer', 'Lawyer', 'Artist', 'Doctor',\n",
        "            'Homemaker', 'Entertainment', 'Marketing', 'Executive'],\n",
        "           ['Low', 'Average', 'High']\n",
        "           ]\n",
        "enc = OrdinalEncoder(categories=categories_list)"
      ],
      "metadata": {
        "id": "hXnHMfoCN_LG"
      },
      "execution_count": 92,
      "outputs": []
    },
    {
      "cell_type": "code",
      "source": [
        "customers_1 = customer_df_cleaned.copy()"
      ],
      "metadata": {
        "id": "pLMvqVcROCX_"
      },
      "execution_count": 93,
      "outputs": []
    },
    {
      "cell_type": "code",
      "source": [
        "customers_1[['Gender',\n",
        "             'Ever_Married',\n",
        "              'Graduated','Profession',\n",
        "              'Spending_Score']] = enc.fit_transform(customers_1[['Gender',\n",
        "                                                                 'Ever_Married',\n",
        "                                                                 'Graduated','Profession',\n",
        "                                                                 'Spending_Score']])"
      ],
      "metadata": {
        "id": "fNEW3tvLOEem"
      },
      "execution_count": 94,
      "outputs": []
    },
    {
      "cell_type": "code",
      "source": [
        "customers_1.dtypes"
      ],
      "metadata": {
        "colab": {
          "base_uri": "https://localhost:8080/"
        },
        "id": "cvhNtde3OIVE",
        "outputId": "5a4a76a9-c838-4fcf-b5a6-90d5fd277a2b"
      },
      "execution_count": 95,
      "outputs": [
        {
          "output_type": "execute_result",
          "data": {
            "text/plain": [
              "ID                   int64\n",
              "Gender             float64\n",
              "Ever_Married       float64\n",
              "Age                  int64\n",
              "Graduated          float64\n",
              "Profession         float64\n",
              "Work_Experience    float64\n",
              "Spending_Score     float64\n",
              "Family_Size        float64\n",
              "Var_1               object\n",
              "Segmentation        object\n",
              "dtype: object"
            ]
          },
          "metadata": {},
          "execution_count": 95
        }
      ]
    },
    {
      "cell_type": "code",
      "source": [
        "le = LabelEncoder()"
      ],
      "metadata": {
        "id": "l7Udq0_lOVZG"
      },
      "execution_count": 96,
      "outputs": []
    },
    {
      "cell_type": "code",
      "source": [
        "customers_1['Segmentation'] = le.fit_transform(customers_1['Segmentation'])"
      ],
      "metadata": {
        "id": "Gi-d79dJOYBF"
      },
      "execution_count": 97,
      "outputs": []
    },
    {
      "cell_type": "code",
      "source": [
        "customers_1.dtypes"
      ],
      "metadata": {
        "colab": {
          "base_uri": "https://localhost:8080/"
        },
        "id": "JMoD6VRgOaQX",
        "outputId": "3d2d05f2-0eed-465e-f456-d7a94a1c947b"
      },
      "execution_count": 98,
      "outputs": [
        {
          "output_type": "execute_result",
          "data": {
            "text/plain": [
              "ID                   int64\n",
              "Gender             float64\n",
              "Ever_Married       float64\n",
              "Age                  int64\n",
              "Graduated          float64\n",
              "Profession         float64\n",
              "Work_Experience    float64\n",
              "Spending_Score     float64\n",
              "Family_Size        float64\n",
              "Var_1               object\n",
              "Segmentation         int64\n",
              "dtype: object"
            ]
          },
          "metadata": {},
          "execution_count": 98
        }
      ]
    },
    {
      "cell_type": "code",
      "source": [
        "customers_1 = customers_1.drop('ID',axis=1)\n",
        "customers_1 = customers_1.drop('Var_1',axis=1)"
      ],
      "metadata": {
        "id": "zeRZ96L2Oet8"
      },
      "execution_count": 99,
      "outputs": []
    },
    {
      "cell_type": "code",
      "source": [
        "customers_1.dtypes"
      ],
      "metadata": {
        "colab": {
          "base_uri": "https://localhost:8080/"
        },
        "id": "LeePnX60OgLJ",
        "outputId": "6abbef39-ce64-42e6-e86d-143f2da5d15a"
      },
      "execution_count": 100,
      "outputs": [
        {
          "output_type": "execute_result",
          "data": {
            "text/plain": [
              "Gender             float64\n",
              "Ever_Married       float64\n",
              "Age                  int64\n",
              "Graduated          float64\n",
              "Profession         float64\n",
              "Work_Experience    float64\n",
              "Spending_Score     float64\n",
              "Family_Size        float64\n",
              "Segmentation         int64\n",
              "dtype: object"
            ]
          },
          "metadata": {},
          "execution_count": 100
        }
      ]
    },
    {
      "cell_type": "code",
      "source": [
        "customers_1['Segmentation'].unique()"
      ],
      "metadata": {
        "colab": {
          "base_uri": "https://localhost:8080/"
        },
        "id": "H8mNajS7OimP",
        "outputId": "4b34a3d6-e68c-4728-92c0-bc59f018d0ad"
      },
      "execution_count": 101,
      "outputs": [
        {
          "output_type": "execute_result",
          "data": {
            "text/plain": [
              "array([3, 1, 2, 0])"
            ]
          },
          "metadata": {},
          "execution_count": 101
        }
      ]
    },
    {
      "cell_type": "code",
      "source": [
        "X=customers_1[['Gender','Ever_Married','Age','Graduated','Profession','Work_Experience','Spending_Score','Family_Size']].values"
      ],
      "metadata": {
        "id": "RLF8L27sOlJL"
      },
      "execution_count": 102,
      "outputs": []
    },
    {
      "cell_type": "code",
      "source": [
        "y1 = customers_1[['Segmentation']].values"
      ],
      "metadata": {
        "id": "dvWaUyPoOoju"
      },
      "execution_count": 103,
      "outputs": []
    },
    {
      "cell_type": "code",
      "source": [
        "one_hot_enc = OneHotEncoder()"
      ],
      "metadata": {
        "id": "av-JXFnZOq1Q"
      },
      "execution_count": 104,
      "outputs": []
    },
    {
      "cell_type": "code",
      "source": [
        "one_hot_enc.fit(y1)"
      ],
      "metadata": {
        "colab": {
          "base_uri": "https://localhost:8080/",
          "height": 75
        },
        "id": "bvr-decdOtKI",
        "outputId": "57ee8ab4-45f1-4496-c621-b77d9949ae32"
      },
      "execution_count": 105,
      "outputs": [
        {
          "output_type": "execute_result",
          "data": {
            "text/plain": [
              "OneHotEncoder()"
            ],
            "text/html": [
              "<style>#sk-container-id-3 {color: black;background-color: white;}#sk-container-id-3 pre{padding: 0;}#sk-container-id-3 div.sk-toggleable {background-color: white;}#sk-container-id-3 label.sk-toggleable__label {cursor: pointer;display: block;width: 100%;margin-bottom: 0;padding: 0.3em;box-sizing: border-box;text-align: center;}#sk-container-id-3 label.sk-toggleable__label-arrow:before {content: \"▸\";float: left;margin-right: 0.25em;color: #696969;}#sk-container-id-3 label.sk-toggleable__label-arrow:hover:before {color: black;}#sk-container-id-3 div.sk-estimator:hover label.sk-toggleable__label-arrow:before {color: black;}#sk-container-id-3 div.sk-toggleable__content {max-height: 0;max-width: 0;overflow: hidden;text-align: left;background-color: #f0f8ff;}#sk-container-id-3 div.sk-toggleable__content pre {margin: 0.2em;color: black;border-radius: 0.25em;background-color: #f0f8ff;}#sk-container-id-3 input.sk-toggleable__control:checked~div.sk-toggleable__content {max-height: 200px;max-width: 100%;overflow: auto;}#sk-container-id-3 input.sk-toggleable__control:checked~label.sk-toggleable__label-arrow:before {content: \"▾\";}#sk-container-id-3 div.sk-estimator input.sk-toggleable__control:checked~label.sk-toggleable__label {background-color: #d4ebff;}#sk-container-id-3 div.sk-label input.sk-toggleable__control:checked~label.sk-toggleable__label {background-color: #d4ebff;}#sk-container-id-3 input.sk-hidden--visually {border: 0;clip: rect(1px 1px 1px 1px);clip: rect(1px, 1px, 1px, 1px);height: 1px;margin: -1px;overflow: hidden;padding: 0;position: absolute;width: 1px;}#sk-container-id-3 div.sk-estimator {font-family: monospace;background-color: #f0f8ff;border: 1px dotted black;border-radius: 0.25em;box-sizing: border-box;margin-bottom: 0.5em;}#sk-container-id-3 div.sk-estimator:hover {background-color: #d4ebff;}#sk-container-id-3 div.sk-parallel-item::after {content: \"\";width: 100%;border-bottom: 1px solid gray;flex-grow: 1;}#sk-container-id-3 div.sk-label:hover label.sk-toggleable__label {background-color: #d4ebff;}#sk-container-id-3 div.sk-serial::before {content: \"\";position: absolute;border-left: 1px solid gray;box-sizing: border-box;top: 0;bottom: 0;left: 50%;z-index: 0;}#sk-container-id-3 div.sk-serial {display: flex;flex-direction: column;align-items: center;background-color: white;padding-right: 0.2em;padding-left: 0.2em;position: relative;}#sk-container-id-3 div.sk-item {position: relative;z-index: 1;}#sk-container-id-3 div.sk-parallel {display: flex;align-items: stretch;justify-content: center;background-color: white;position: relative;}#sk-container-id-3 div.sk-item::before, #sk-container-id-3 div.sk-parallel-item::before {content: \"\";position: absolute;border-left: 1px solid gray;box-sizing: border-box;top: 0;bottom: 0;left: 50%;z-index: -1;}#sk-container-id-3 div.sk-parallel-item {display: flex;flex-direction: column;z-index: 1;position: relative;background-color: white;}#sk-container-id-3 div.sk-parallel-item:first-child::after {align-self: flex-end;width: 50%;}#sk-container-id-3 div.sk-parallel-item:last-child::after {align-self: flex-start;width: 50%;}#sk-container-id-3 div.sk-parallel-item:only-child::after {width: 0;}#sk-container-id-3 div.sk-dashed-wrapped {border: 1px dashed gray;margin: 0 0.4em 0.5em 0.4em;box-sizing: border-box;padding-bottom: 0.4em;background-color: white;}#sk-container-id-3 div.sk-label label {font-family: monospace;font-weight: bold;display: inline-block;line-height: 1.2em;}#sk-container-id-3 div.sk-label-container {text-align: center;}#sk-container-id-3 div.sk-container {/* jupyter's `normalize.less` sets `[hidden] { display: none; }` but bootstrap.min.css set `[hidden] { display: none !important; }` so we also need the `!important` here to be able to override the default hidden behavior on the sphinx rendered scikit-learn.org. See: https://github.com/scikit-learn/scikit-learn/issues/21755 */display: inline-block !important;position: relative;}#sk-container-id-3 div.sk-text-repr-fallback {display: none;}</style><div id=\"sk-container-id-3\" class=\"sk-top-container\"><div class=\"sk-text-repr-fallback\"><pre>OneHotEncoder()</pre><b>In a Jupyter environment, please rerun this cell to show the HTML representation or trust the notebook. <br />On GitHub, the HTML representation is unable to render, please try loading this page with nbviewer.org.</b></div><div class=\"sk-container\" hidden><div class=\"sk-item\"><div class=\"sk-estimator sk-toggleable\"><input class=\"sk-toggleable__control sk-hidden--visually\" id=\"sk-estimator-id-3\" type=\"checkbox\" checked><label for=\"sk-estimator-id-3\" class=\"sk-toggleable__label sk-toggleable__label-arrow\">OneHotEncoder</label><div class=\"sk-toggleable__content\"><pre>OneHotEncoder()</pre></div></div></div></div></div>"
            ]
          },
          "metadata": {},
          "execution_count": 105
        }
      ]
    },
    {
      "cell_type": "code",
      "source": [
        "y1.shape"
      ],
      "metadata": {
        "colab": {
          "base_uri": "https://localhost:8080/"
        },
        "id": "6nsDTBNjOus0",
        "outputId": "e8b90a37-6b51-4ee0-9ffa-23a46f232487"
      },
      "execution_count": 106,
      "outputs": [
        {
          "output_type": "execute_result",
          "data": {
            "text/plain": [
              "(8819, 1)"
            ]
          },
          "metadata": {},
          "execution_count": 106
        }
      ]
    },
    {
      "cell_type": "code",
      "source": [
        "y = one_hot_enc.transform(y1).toarray()"
      ],
      "metadata": {
        "id": "L5fq0flxOxf5"
      },
      "execution_count": 107,
      "outputs": []
    },
    {
      "cell_type": "code",
      "source": [
        "y.shape"
      ],
      "metadata": {
        "colab": {
          "base_uri": "https://localhost:8080/"
        },
        "id": "gS-es-oQOzn6",
        "outputId": "ea4eddb4-ed2a-4830-ecd5-c8766b97bc21"
      },
      "execution_count": 108,
      "outputs": [
        {
          "output_type": "execute_result",
          "data": {
            "text/plain": [
              "(8819, 4)"
            ]
          },
          "metadata": {},
          "execution_count": 108
        }
      ]
    },
    {
      "cell_type": "code",
      "source": [
        "y1[0]"
      ],
      "metadata": {
        "colab": {
          "base_uri": "https://localhost:8080/"
        },
        "id": "dm89EQNzOzs_",
        "outputId": "c36fa7cc-347d-4cfb-b9c0-f24a48d9b6ac"
      },
      "execution_count": 109,
      "outputs": [
        {
          "output_type": "execute_result",
          "data": {
            "text/plain": [
              "array([3])"
            ]
          },
          "metadata": {},
          "execution_count": 109
        }
      ]
    },
    {
      "cell_type": "code",
      "source": [
        "y[0]"
      ],
      "metadata": {
        "colab": {
          "base_uri": "https://localhost:8080/"
        },
        "id": "759GnRnoO46U",
        "outputId": "c8ba85cd-8814-4c52-aff0-157d62741b3c"
      },
      "execution_count": 110,
      "outputs": [
        {
          "output_type": "execute_result",
          "data": {
            "text/plain": [
              "array([0., 0., 0., 1.])"
            ]
          },
          "metadata": {},
          "execution_count": 110
        }
      ]
    },
    {
      "cell_type": "code",
      "source": [
        "X.shape\n"
      ],
      "metadata": {
        "colab": {
          "base_uri": "https://localhost:8080/"
        },
        "id": "OM0nnULgO68X",
        "outputId": "a9d64eea-4d37-444b-abee-735a3c16a64b"
      },
      "execution_count": 111,
      "outputs": [
        {
          "output_type": "execute_result",
          "data": {
            "text/plain": [
              "(8819, 8)"
            ]
          },
          "metadata": {},
          "execution_count": 111
        }
      ]
    },
    {
      "cell_type": "code",
      "source": [
        "X_train,X_test,y_train,y_test=train_test_split(X,y,\n",
        "                                               test_size=0.33,\n",
        "                                               random_state=50)"
      ],
      "metadata": {
        "id": "hwRwYapRO6-9"
      },
      "execution_count": 112,
      "outputs": []
    },
    {
      "cell_type": "code",
      "source": [
        "X_train[0]"
      ],
      "metadata": {
        "colab": {
          "base_uri": "https://localhost:8080/"
        },
        "id": "EV6qvGbqPAq0",
        "outputId": "b1241aed-50c5-4752-9973-d69493c5d5d4"
      },
      "execution_count": 113,
      "outputs": [
        {
          "output_type": "execute_result",
          "data": {
            "text/plain": [
              "array([ 1.,  1., 85.,  0.,  2.,  0.,  0.,  1.])"
            ]
          },
          "metadata": {},
          "execution_count": 113
        }
      ]
    },
    {
      "cell_type": "code",
      "source": [
        "X_train.shape"
      ],
      "metadata": {
        "colab": {
          "base_uri": "https://localhost:8080/"
        },
        "id": "7yPKe_knPDzn",
        "outputId": "18060180-462c-46a3-aa4c-64b39a7c87c6"
      },
      "execution_count": 114,
      "outputs": [
        {
          "output_type": "execute_result",
          "data": {
            "text/plain": [
              "(5908, 8)"
            ]
          },
          "metadata": {},
          "execution_count": 114
        }
      ]
    },
    {
      "cell_type": "code",
      "source": [
        "scaler_age = MinMaxScaler()"
      ],
      "metadata": {
        "id": "0VSCkcG6PGIS"
      },
      "execution_count": 115,
      "outputs": []
    },
    {
      "cell_type": "code",
      "source": [
        "scaler_age.fit(X_train[:,2].reshape(-1,1))"
      ],
      "metadata": {
        "colab": {
          "base_uri": "https://localhost:8080/",
          "height": 75
        },
        "id": "0B6xY9m0PIYh",
        "outputId": "d53383b8-57f5-4f15-f196-a6c75a5566a3"
      },
      "execution_count": 116,
      "outputs": [
        {
          "output_type": "execute_result",
          "data": {
            "text/plain": [
              "MinMaxScaler()"
            ],
            "text/html": [
              "<style>#sk-container-id-4 {color: black;background-color: white;}#sk-container-id-4 pre{padding: 0;}#sk-container-id-4 div.sk-toggleable {background-color: white;}#sk-container-id-4 label.sk-toggleable__label {cursor: pointer;display: block;width: 100%;margin-bottom: 0;padding: 0.3em;box-sizing: border-box;text-align: center;}#sk-container-id-4 label.sk-toggleable__label-arrow:before {content: \"▸\";float: left;margin-right: 0.25em;color: #696969;}#sk-container-id-4 label.sk-toggleable__label-arrow:hover:before {color: black;}#sk-container-id-4 div.sk-estimator:hover label.sk-toggleable__label-arrow:before {color: black;}#sk-container-id-4 div.sk-toggleable__content {max-height: 0;max-width: 0;overflow: hidden;text-align: left;background-color: #f0f8ff;}#sk-container-id-4 div.sk-toggleable__content pre {margin: 0.2em;color: black;border-radius: 0.25em;background-color: #f0f8ff;}#sk-container-id-4 input.sk-toggleable__control:checked~div.sk-toggleable__content {max-height: 200px;max-width: 100%;overflow: auto;}#sk-container-id-4 input.sk-toggleable__control:checked~label.sk-toggleable__label-arrow:before {content: \"▾\";}#sk-container-id-4 div.sk-estimator input.sk-toggleable__control:checked~label.sk-toggleable__label {background-color: #d4ebff;}#sk-container-id-4 div.sk-label input.sk-toggleable__control:checked~label.sk-toggleable__label {background-color: #d4ebff;}#sk-container-id-4 input.sk-hidden--visually {border: 0;clip: rect(1px 1px 1px 1px);clip: rect(1px, 1px, 1px, 1px);height: 1px;margin: -1px;overflow: hidden;padding: 0;position: absolute;width: 1px;}#sk-container-id-4 div.sk-estimator {font-family: monospace;background-color: #f0f8ff;border: 1px dotted black;border-radius: 0.25em;box-sizing: border-box;margin-bottom: 0.5em;}#sk-container-id-4 div.sk-estimator:hover {background-color: #d4ebff;}#sk-container-id-4 div.sk-parallel-item::after {content: \"\";width: 100%;border-bottom: 1px solid gray;flex-grow: 1;}#sk-container-id-4 div.sk-label:hover label.sk-toggleable__label {background-color: #d4ebff;}#sk-container-id-4 div.sk-serial::before {content: \"\";position: absolute;border-left: 1px solid gray;box-sizing: border-box;top: 0;bottom: 0;left: 50%;z-index: 0;}#sk-container-id-4 div.sk-serial {display: flex;flex-direction: column;align-items: center;background-color: white;padding-right: 0.2em;padding-left: 0.2em;position: relative;}#sk-container-id-4 div.sk-item {position: relative;z-index: 1;}#sk-container-id-4 div.sk-parallel {display: flex;align-items: stretch;justify-content: center;background-color: white;position: relative;}#sk-container-id-4 div.sk-item::before, #sk-container-id-4 div.sk-parallel-item::before {content: \"\";position: absolute;border-left: 1px solid gray;box-sizing: border-box;top: 0;bottom: 0;left: 50%;z-index: -1;}#sk-container-id-4 div.sk-parallel-item {display: flex;flex-direction: column;z-index: 1;position: relative;background-color: white;}#sk-container-id-4 div.sk-parallel-item:first-child::after {align-self: flex-end;width: 50%;}#sk-container-id-4 div.sk-parallel-item:last-child::after {align-self: flex-start;width: 50%;}#sk-container-id-4 div.sk-parallel-item:only-child::after {width: 0;}#sk-container-id-4 div.sk-dashed-wrapped {border: 1px dashed gray;margin: 0 0.4em 0.5em 0.4em;box-sizing: border-box;padding-bottom: 0.4em;background-color: white;}#sk-container-id-4 div.sk-label label {font-family: monospace;font-weight: bold;display: inline-block;line-height: 1.2em;}#sk-container-id-4 div.sk-label-container {text-align: center;}#sk-container-id-4 div.sk-container {/* jupyter's `normalize.less` sets `[hidden] { display: none; }` but bootstrap.min.css set `[hidden] { display: none !important; }` so we also need the `!important` here to be able to override the default hidden behavior on the sphinx rendered scikit-learn.org. See: https://github.com/scikit-learn/scikit-learn/issues/21755 */display: inline-block !important;position: relative;}#sk-container-id-4 div.sk-text-repr-fallback {display: none;}</style><div id=\"sk-container-id-4\" class=\"sk-top-container\"><div class=\"sk-text-repr-fallback\"><pre>MinMaxScaler()</pre><b>In a Jupyter environment, please rerun this cell to show the HTML representation or trust the notebook. <br />On GitHub, the HTML representation is unable to render, please try loading this page with nbviewer.org.</b></div><div class=\"sk-container\" hidden><div class=\"sk-item\"><div class=\"sk-estimator sk-toggleable\"><input class=\"sk-toggleable__control sk-hidden--visually\" id=\"sk-estimator-id-4\" type=\"checkbox\" checked><label for=\"sk-estimator-id-4\" class=\"sk-toggleable__label sk-toggleable__label-arrow\">MinMaxScaler</label><div class=\"sk-toggleable__content\"><pre>MinMaxScaler()</pre></div></div></div></div></div>"
            ]
          },
          "metadata": {},
          "execution_count": 116
        }
      ]
    },
    {
      "cell_type": "code",
      "source": [
        "X_train_scaled = np.copy(X_train)\n",
        "X_test_scaled = np.copy(X_test)"
      ],
      "metadata": {
        "id": "xC_m6ScfPLy2"
      },
      "execution_count": 117,
      "outputs": []
    },
    {
      "cell_type": "code",
      "source": [
        "# To scale the Age column\n",
        "X_train_scaled[:,2] = scaler_age.transform(X_train[:,2].reshape(-1,1)).reshape(-1)\n",
        "X_test_scaled[:,2] = scaler_age.transform(X_test[:,2].reshape(-1,1)).reshape(-1)"
      ],
      "metadata": {
        "id": "IaXcmDKgPO1E"
      },
      "execution_count": 118,
      "outputs": []
    },
    {
      "cell_type": "code",
      "source": [
        "# Creating the model\n",
        "ai_brain = Sequential([\n",
        "  Dense(units = 4, input_shape=[8]),\n",
        "  Dense(units =16, activation='relu'),\n",
        "  Dense(units =4, activation ='softmax')\n",
        "])"
      ],
      "metadata": {
        "id": "QoWj52-yPSFh"
      },
      "execution_count": 161,
      "outputs": []
    },
    {
      "cell_type": "code",
      "source": [
        "ai_brain.compile(optimizer='adam',\n",
        "                 loss='categorical_crossentropy',\n",
        "                 metrics=['accuracy'])"
      ],
      "metadata": {
        "id": "lx8WKlmTPUP7"
      },
      "execution_count": 162,
      "outputs": []
    },
    {
      "cell_type": "code",
      "source": [
        "ai_brain.fit(x=X_train_scaled,y=y_train,\n",
        "             epochs=500,batch_size=256,\n",
        "             validation_data=(X_test_scaled,y_test),\n",
        "             )"
      ],
      "metadata": {
        "colab": {
          "base_uri": "https://localhost:8080/"
        },
        "id": "M8DTvXVHPW7P",
        "outputId": "88d60275-f786-49af-c559-8ad2ee8bbc9d"
      },
      "execution_count": 163,
      "outputs": [
        {
          "output_type": "stream",
          "name": "stdout",
          "text": [
            "Epoch 1/500\n",
            "24/24 [==============================] - 1s 11ms/step - loss: 1.5766 - accuracy: 0.3248 - val_loss: 1.5040 - val_accuracy: 0.3305\n",
            "Epoch 2/500\n",
            "24/24 [==============================] - 0s 4ms/step - loss: 1.4315 - accuracy: 0.3407 - val_loss: 1.4054 - val_accuracy: 0.3318\n",
            "Epoch 3/500\n",
            "24/24 [==============================] - 0s 6ms/step - loss: 1.3779 - accuracy: 0.3433 - val_loss: 1.3784 - val_accuracy: 0.3459\n",
            "Epoch 4/500\n",
            "24/24 [==============================] - 0s 4ms/step - loss: 1.3659 - accuracy: 0.3466 - val_loss: 1.3703 - val_accuracy: 0.3466\n",
            "Epoch 5/500\n",
            "24/24 [==============================] - 0s 4ms/step - loss: 1.3597 - accuracy: 0.3516 - val_loss: 1.3650 - val_accuracy: 0.3521\n",
            "Epoch 6/500\n",
            "24/24 [==============================] - 0s 4ms/step - loss: 1.3535 - accuracy: 0.3558 - val_loss: 1.3608 - val_accuracy: 0.3531\n",
            "Epoch 7/500\n",
            "24/24 [==============================] - 0s 4ms/step - loss: 1.3479 - accuracy: 0.3583 - val_loss: 1.3566 - val_accuracy: 0.3494\n",
            "Epoch 8/500\n",
            "24/24 [==============================] - 0s 4ms/step - loss: 1.3418 - accuracy: 0.3627 - val_loss: 1.3511 - val_accuracy: 0.3504\n",
            "Epoch 9/500\n",
            "24/24 [==============================] - 0s 4ms/step - loss: 1.3362 - accuracy: 0.3600 - val_loss: 1.3456 - val_accuracy: 0.3573\n",
            "Epoch 10/500\n",
            "24/24 [==============================] - 0s 6ms/step - loss: 1.3308 - accuracy: 0.3687 - val_loss: 1.3405 - val_accuracy: 0.3607\n",
            "Epoch 11/500\n",
            "24/24 [==============================] - 0s 4ms/step - loss: 1.3244 - accuracy: 0.3690 - val_loss: 1.3345 - val_accuracy: 0.3686\n",
            "Epoch 12/500\n",
            "24/24 [==============================] - 0s 4ms/step - loss: 1.3192 - accuracy: 0.3783 - val_loss: 1.3295 - val_accuracy: 0.3727\n",
            "Epoch 13/500\n",
            "24/24 [==============================] - 0s 5ms/step - loss: 1.3139 - accuracy: 0.3741 - val_loss: 1.3245 - val_accuracy: 0.3724\n",
            "Epoch 14/500\n",
            "24/24 [==============================] - 0s 4ms/step - loss: 1.3080 - accuracy: 0.3844 - val_loss: 1.3187 - val_accuracy: 0.3789\n",
            "Epoch 15/500\n",
            "24/24 [==============================] - 0s 4ms/step - loss: 1.3019 - accuracy: 0.3935 - val_loss: 1.3122 - val_accuracy: 0.3861\n",
            "Epoch 16/500\n",
            "24/24 [==============================] - 0s 4ms/step - loss: 1.2941 - accuracy: 0.3922 - val_loss: 1.3045 - val_accuracy: 0.3878\n",
            "Epoch 17/500\n",
            "24/24 [==============================] - 0s 4ms/step - loss: 1.2865 - accuracy: 0.3984 - val_loss: 1.2983 - val_accuracy: 0.3923\n",
            "Epoch 18/500\n",
            "24/24 [==============================] - 0s 4ms/step - loss: 1.2806 - accuracy: 0.3968 - val_loss: 1.2922 - val_accuracy: 0.4002\n",
            "Epoch 19/500\n",
            "24/24 [==============================] - 0s 4ms/step - loss: 1.2732 - accuracy: 0.4132 - val_loss: 1.2854 - val_accuracy: 0.4040\n",
            "Epoch 20/500\n",
            "24/24 [==============================] - 0s 5ms/step - loss: 1.2690 - accuracy: 0.4166 - val_loss: 1.2806 - val_accuracy: 0.4143\n",
            "Epoch 21/500\n",
            "24/24 [==============================] - 0s 7ms/step - loss: 1.2626 - accuracy: 0.4208 - val_loss: 1.2759 - val_accuracy: 0.4139\n",
            "Epoch 22/500\n",
            "24/24 [==============================] - 0s 8ms/step - loss: 1.2581 - accuracy: 0.4216 - val_loss: 1.2714 - val_accuracy: 0.4139\n",
            "Epoch 23/500\n",
            "24/24 [==============================] - 0s 6ms/step - loss: 1.2534 - accuracy: 0.4296 - val_loss: 1.2687 - val_accuracy: 0.4122\n",
            "Epoch 24/500\n",
            "24/24 [==============================] - 0s 6ms/step - loss: 1.2503 - accuracy: 0.4323 - val_loss: 1.2653 - val_accuracy: 0.4143\n",
            "Epoch 25/500\n",
            "24/24 [==============================] - 0s 6ms/step - loss: 1.2501 - accuracy: 0.4255 - val_loss: 1.2647 - val_accuracy: 0.4119\n",
            "Epoch 26/500\n",
            "24/24 [==============================] - 0s 7ms/step - loss: 1.2464 - accuracy: 0.4294 - val_loss: 1.2606 - val_accuracy: 0.4139\n",
            "Epoch 27/500\n",
            "24/24 [==============================] - 0s 7ms/step - loss: 1.2440 - accuracy: 0.4350 - val_loss: 1.2582 - val_accuracy: 0.4139\n",
            "Epoch 28/500\n",
            "24/24 [==============================] - 0s 6ms/step - loss: 1.2422 - accuracy: 0.4364 - val_loss: 1.2590 - val_accuracy: 0.4139\n",
            "Epoch 29/500\n",
            "24/24 [==============================] - 0s 7ms/step - loss: 1.2399 - accuracy: 0.4379 - val_loss: 1.2549 - val_accuracy: 0.4191\n",
            "Epoch 30/500\n",
            "24/24 [==============================] - 0s 8ms/step - loss: 1.2392 - accuracy: 0.4384 - val_loss: 1.2533 - val_accuracy: 0.4215\n",
            "Epoch 31/500\n",
            "24/24 [==============================] - 0s 6ms/step - loss: 1.2387 - accuracy: 0.4374 - val_loss: 1.2520 - val_accuracy: 0.4232\n",
            "Epoch 32/500\n",
            "24/24 [==============================] - 0s 7ms/step - loss: 1.2369 - accuracy: 0.4358 - val_loss: 1.2516 - val_accuracy: 0.4146\n",
            "Epoch 33/500\n",
            "24/24 [==============================] - 0s 8ms/step - loss: 1.2351 - accuracy: 0.4387 - val_loss: 1.2503 - val_accuracy: 0.4174\n",
            "Epoch 34/500\n",
            "24/24 [==============================] - 0s 6ms/step - loss: 1.2344 - accuracy: 0.4414 - val_loss: 1.2486 - val_accuracy: 0.4294\n",
            "Epoch 35/500\n",
            "24/24 [==============================] - 0s 7ms/step - loss: 1.2356 - accuracy: 0.4381 - val_loss: 1.2490 - val_accuracy: 0.4212\n",
            "Epoch 36/500\n",
            "24/24 [==============================] - 0s 7ms/step - loss: 1.2331 - accuracy: 0.4389 - val_loss: 1.2473 - val_accuracy: 0.4232\n",
            "Epoch 37/500\n",
            "24/24 [==============================] - 0s 6ms/step - loss: 1.2314 - accuracy: 0.4430 - val_loss: 1.2467 - val_accuracy: 0.4253\n",
            "Epoch 38/500\n",
            "24/24 [==============================] - 0s 7ms/step - loss: 1.2312 - accuracy: 0.4397 - val_loss: 1.2461 - val_accuracy: 0.4277\n",
            "Epoch 39/500\n",
            "24/24 [==============================] - 0s 6ms/step - loss: 1.2304 - accuracy: 0.4426 - val_loss: 1.2452 - val_accuracy: 0.4291\n",
            "Epoch 40/500\n",
            "24/24 [==============================] - 0s 6ms/step - loss: 1.2292 - accuracy: 0.4425 - val_loss: 1.2440 - val_accuracy: 0.4287\n",
            "Epoch 41/500\n",
            "24/24 [==============================] - 0s 7ms/step - loss: 1.2286 - accuracy: 0.4414 - val_loss: 1.2439 - val_accuracy: 0.4253\n",
            "Epoch 42/500\n",
            "24/24 [==============================] - 0s 8ms/step - loss: 1.2286 - accuracy: 0.4413 - val_loss: 1.2428 - val_accuracy: 0.4291\n",
            "Epoch 43/500\n",
            "24/24 [==============================] - 0s 7ms/step - loss: 1.2278 - accuracy: 0.4463 - val_loss: 1.2430 - val_accuracy: 0.4297\n",
            "Epoch 44/500\n",
            "24/24 [==============================] - 0s 8ms/step - loss: 1.2274 - accuracy: 0.4419 - val_loss: 1.2426 - val_accuracy: 0.4332\n",
            "Epoch 45/500\n",
            "24/24 [==============================] - 0s 6ms/step - loss: 1.2267 - accuracy: 0.4462 - val_loss: 1.2423 - val_accuracy: 0.4294\n",
            "Epoch 46/500\n",
            "24/24 [==============================] - 0s 4ms/step - loss: 1.2261 - accuracy: 0.4457 - val_loss: 1.2412 - val_accuracy: 0.4301\n",
            "Epoch 47/500\n",
            "24/24 [==============================] - 0s 4ms/step - loss: 1.2259 - accuracy: 0.4408 - val_loss: 1.2421 - val_accuracy: 0.4311\n",
            "Epoch 48/500\n",
            "24/24 [==============================] - 0s 4ms/step - loss: 1.2251 - accuracy: 0.4477 - val_loss: 1.2396 - val_accuracy: 0.4308\n",
            "Epoch 49/500\n",
            "24/24 [==============================] - 0s 4ms/step - loss: 1.2251 - accuracy: 0.4452 - val_loss: 1.2404 - val_accuracy: 0.4322\n",
            "Epoch 50/500\n",
            "24/24 [==============================] - 0s 4ms/step - loss: 1.2237 - accuracy: 0.4467 - val_loss: 1.2391 - val_accuracy: 0.4297\n",
            "Epoch 51/500\n",
            "24/24 [==============================] - 0s 4ms/step - loss: 1.2234 - accuracy: 0.4458 - val_loss: 1.2394 - val_accuracy: 0.4322\n",
            "Epoch 52/500\n",
            "24/24 [==============================] - 0s 4ms/step - loss: 1.2236 - accuracy: 0.4499 - val_loss: 1.2391 - val_accuracy: 0.4287\n",
            "Epoch 53/500\n",
            "24/24 [==============================] - 0s 4ms/step - loss: 1.2242 - accuracy: 0.4472 - val_loss: 1.2375 - val_accuracy: 0.4322\n",
            "Epoch 54/500\n",
            "24/24 [==============================] - 0s 4ms/step - loss: 1.2231 - accuracy: 0.4457 - val_loss: 1.2386 - val_accuracy: 0.4328\n",
            "Epoch 55/500\n",
            "24/24 [==============================] - 0s 5ms/step - loss: 1.2231 - accuracy: 0.4484 - val_loss: 1.2382 - val_accuracy: 0.4311\n",
            "Epoch 56/500\n",
            "24/24 [==============================] - 0s 4ms/step - loss: 1.2219 - accuracy: 0.4499 - val_loss: 1.2377 - val_accuracy: 0.4294\n",
            "Epoch 57/500\n",
            "24/24 [==============================] - 0s 4ms/step - loss: 1.2226 - accuracy: 0.4482 - val_loss: 1.2379 - val_accuracy: 0.4322\n",
            "Epoch 58/500\n",
            "24/24 [==============================] - 0s 4ms/step - loss: 1.2214 - accuracy: 0.4485 - val_loss: 1.2388 - val_accuracy: 0.4301\n",
            "Epoch 59/500\n",
            "24/24 [==============================] - 0s 4ms/step - loss: 1.2216 - accuracy: 0.4463 - val_loss: 1.2368 - val_accuracy: 0.4315\n",
            "Epoch 60/500\n",
            "24/24 [==============================] - 0s 4ms/step - loss: 1.2210 - accuracy: 0.4499 - val_loss: 1.2361 - val_accuracy: 0.4356\n",
            "Epoch 61/500\n",
            "24/24 [==============================] - 0s 4ms/step - loss: 1.2210 - accuracy: 0.4462 - val_loss: 1.2361 - val_accuracy: 0.4322\n",
            "Epoch 62/500\n",
            "24/24 [==============================] - 0s 4ms/step - loss: 1.2208 - accuracy: 0.4514 - val_loss: 1.2376 - val_accuracy: 0.4352\n",
            "Epoch 63/500\n",
            "24/24 [==============================] - 0s 4ms/step - loss: 1.2209 - accuracy: 0.4489 - val_loss: 1.2368 - val_accuracy: 0.4339\n",
            "Epoch 64/500\n",
            "24/24 [==============================] - 0s 4ms/step - loss: 1.2198 - accuracy: 0.4506 - val_loss: 1.2360 - val_accuracy: 0.4342\n",
            "Epoch 65/500\n",
            "24/24 [==============================] - 0s 4ms/step - loss: 1.2194 - accuracy: 0.4519 - val_loss: 1.2367 - val_accuracy: 0.4332\n",
            "Epoch 66/500\n",
            "24/24 [==============================] - 0s 4ms/step - loss: 1.2191 - accuracy: 0.4502 - val_loss: 1.2367 - val_accuracy: 0.4339\n",
            "Epoch 67/500\n",
            "24/24 [==============================] - 0s 4ms/step - loss: 1.2197 - accuracy: 0.4492 - val_loss: 1.2354 - val_accuracy: 0.4322\n",
            "Epoch 68/500\n",
            "24/24 [==============================] - 0s 4ms/step - loss: 1.2193 - accuracy: 0.4502 - val_loss: 1.2363 - val_accuracy: 0.4315\n",
            "Epoch 69/500\n",
            "24/24 [==============================] - 0s 4ms/step - loss: 1.2187 - accuracy: 0.4535 - val_loss: 1.2355 - val_accuracy: 0.4322\n",
            "Epoch 70/500\n",
            "24/24 [==============================] - 0s 4ms/step - loss: 1.2186 - accuracy: 0.4513 - val_loss: 1.2346 - val_accuracy: 0.4297\n",
            "Epoch 71/500\n",
            "24/24 [==============================] - 0s 4ms/step - loss: 1.2181 - accuracy: 0.4504 - val_loss: 1.2350 - val_accuracy: 0.4332\n",
            "Epoch 72/500\n",
            "24/24 [==============================] - 0s 4ms/step - loss: 1.2186 - accuracy: 0.4523 - val_loss: 1.2348 - val_accuracy: 0.4325\n",
            "Epoch 73/500\n",
            "24/24 [==============================] - 0s 4ms/step - loss: 1.2185 - accuracy: 0.4509 - val_loss: 1.2342 - val_accuracy: 0.4294\n",
            "Epoch 74/500\n",
            "24/24 [==============================] - 0s 4ms/step - loss: 1.2185 - accuracy: 0.4489 - val_loss: 1.2369 - val_accuracy: 0.4339\n",
            "Epoch 75/500\n",
            "24/24 [==============================] - 0s 6ms/step - loss: 1.2185 - accuracy: 0.4529 - val_loss: 1.2340 - val_accuracy: 0.4311\n",
            "Epoch 76/500\n",
            "24/24 [==============================] - 0s 4ms/step - loss: 1.2169 - accuracy: 0.4555 - val_loss: 1.2356 - val_accuracy: 0.4311\n",
            "Epoch 77/500\n",
            "24/24 [==============================] - 0s 4ms/step - loss: 1.2175 - accuracy: 0.4518 - val_loss: 1.2349 - val_accuracy: 0.4335\n",
            "Epoch 78/500\n",
            "24/24 [==============================] - 0s 4ms/step - loss: 1.2172 - accuracy: 0.4538 - val_loss: 1.2342 - val_accuracy: 0.4315\n",
            "Epoch 79/500\n",
            "24/24 [==============================] - 0s 4ms/step - loss: 1.2172 - accuracy: 0.4553 - val_loss: 1.2344 - val_accuracy: 0.4342\n",
            "Epoch 80/500\n",
            "24/24 [==============================] - 0s 4ms/step - loss: 1.2162 - accuracy: 0.4540 - val_loss: 1.2337 - val_accuracy: 0.4325\n",
            "Epoch 81/500\n",
            "24/24 [==============================] - 0s 4ms/step - loss: 1.2170 - accuracy: 0.4514 - val_loss: 1.2341 - val_accuracy: 0.4322\n",
            "Epoch 82/500\n",
            "24/24 [==============================] - 0s 4ms/step - loss: 1.2163 - accuracy: 0.4538 - val_loss: 1.2347 - val_accuracy: 0.4328\n",
            "Epoch 83/500\n",
            "24/24 [==============================] - 0s 4ms/step - loss: 1.2164 - accuracy: 0.4519 - val_loss: 1.2334 - val_accuracy: 0.4332\n",
            "Epoch 84/500\n",
            "24/24 [==============================] - 0s 4ms/step - loss: 1.2160 - accuracy: 0.4529 - val_loss: 1.2337 - val_accuracy: 0.4346\n",
            "Epoch 85/500\n",
            "24/24 [==============================] - 0s 6ms/step - loss: 1.2166 - accuracy: 0.4519 - val_loss: 1.2343 - val_accuracy: 0.4311\n",
            "Epoch 86/500\n",
            "24/24 [==============================] - 0s 4ms/step - loss: 1.2169 - accuracy: 0.4533 - val_loss: 1.2340 - val_accuracy: 0.4328\n",
            "Epoch 87/500\n",
            "24/24 [==============================] - 0s 4ms/step - loss: 1.2155 - accuracy: 0.4548 - val_loss: 1.2331 - val_accuracy: 0.4318\n",
            "Epoch 88/500\n",
            "24/24 [==============================] - 0s 4ms/step - loss: 1.2151 - accuracy: 0.4570 - val_loss: 1.2349 - val_accuracy: 0.4342\n",
            "Epoch 89/500\n",
            "24/24 [==============================] - 0s 4ms/step - loss: 1.2153 - accuracy: 0.4543 - val_loss: 1.2328 - val_accuracy: 0.4346\n",
            "Epoch 90/500\n",
            "24/24 [==============================] - 0s 4ms/step - loss: 1.2158 - accuracy: 0.4511 - val_loss: 1.2331 - val_accuracy: 0.4335\n",
            "Epoch 91/500\n",
            "24/24 [==============================] - 0s 4ms/step - loss: 1.2146 - accuracy: 0.4536 - val_loss: 1.2329 - val_accuracy: 0.4349\n",
            "Epoch 92/500\n",
            "24/24 [==============================] - 0s 4ms/step - loss: 1.2159 - accuracy: 0.4553 - val_loss: 1.2335 - val_accuracy: 0.4346\n",
            "Epoch 93/500\n",
            "24/24 [==============================] - 0s 4ms/step - loss: 1.2159 - accuracy: 0.4551 - val_loss: 1.2325 - val_accuracy: 0.4352\n",
            "Epoch 94/500\n",
            "24/24 [==============================] - 0s 4ms/step - loss: 1.2148 - accuracy: 0.4545 - val_loss: 1.2319 - val_accuracy: 0.4352\n",
            "Epoch 95/500\n",
            "24/24 [==============================] - 0s 4ms/step - loss: 1.2144 - accuracy: 0.4529 - val_loss: 1.2322 - val_accuracy: 0.4328\n",
            "Epoch 96/500\n",
            "24/24 [==============================] - 0s 4ms/step - loss: 1.2162 - accuracy: 0.4568 - val_loss: 1.2330 - val_accuracy: 0.4342\n",
            "Epoch 97/500\n",
            "24/24 [==============================] - 0s 4ms/step - loss: 1.2145 - accuracy: 0.4487 - val_loss: 1.2325 - val_accuracy: 0.4335\n",
            "Epoch 98/500\n",
            "24/24 [==============================] - 0s 4ms/step - loss: 1.2146 - accuracy: 0.4496 - val_loss: 1.2333 - val_accuracy: 0.4328\n",
            "Epoch 99/500\n",
            "24/24 [==============================] - 0s 4ms/step - loss: 1.2142 - accuracy: 0.4538 - val_loss: 1.2318 - val_accuracy: 0.4359\n",
            "Epoch 100/500\n",
            "24/24 [==============================] - 0s 4ms/step - loss: 1.2144 - accuracy: 0.4555 - val_loss: 1.2324 - val_accuracy: 0.4363\n",
            "Epoch 101/500\n",
            "24/24 [==============================] - 0s 4ms/step - loss: 1.2143 - accuracy: 0.4523 - val_loss: 1.2312 - val_accuracy: 0.4359\n",
            "Epoch 102/500\n",
            "24/24 [==============================] - 0s 4ms/step - loss: 1.2141 - accuracy: 0.4558 - val_loss: 1.2312 - val_accuracy: 0.4328\n",
            "Epoch 103/500\n",
            "24/24 [==============================] - 0s 4ms/step - loss: 1.2135 - accuracy: 0.4540 - val_loss: 1.2327 - val_accuracy: 0.4373\n",
            "Epoch 104/500\n",
            "24/24 [==============================] - 0s 4ms/step - loss: 1.2143 - accuracy: 0.4535 - val_loss: 1.2319 - val_accuracy: 0.4342\n",
            "Epoch 105/500\n",
            "24/24 [==============================] - 0s 5ms/step - loss: 1.2132 - accuracy: 0.4562 - val_loss: 1.2312 - val_accuracy: 0.4356\n",
            "Epoch 106/500\n",
            "24/24 [==============================] - 0s 4ms/step - loss: 1.2141 - accuracy: 0.4546 - val_loss: 1.2324 - val_accuracy: 0.4332\n",
            "Epoch 107/500\n",
            "24/24 [==============================] - 0s 4ms/step - loss: 1.2141 - accuracy: 0.4528 - val_loss: 1.2316 - val_accuracy: 0.4325\n",
            "Epoch 108/500\n",
            "24/24 [==============================] - 0s 4ms/step - loss: 1.2131 - accuracy: 0.4536 - val_loss: 1.2317 - val_accuracy: 0.4335\n",
            "Epoch 109/500\n",
            "24/24 [==============================] - 0s 4ms/step - loss: 1.2141 - accuracy: 0.4545 - val_loss: 1.2324 - val_accuracy: 0.4301\n",
            "Epoch 110/500\n",
            "24/24 [==============================] - 0s 4ms/step - loss: 1.2130 - accuracy: 0.4545 - val_loss: 1.2309 - val_accuracy: 0.4352\n",
            "Epoch 111/500\n",
            "24/24 [==============================] - 0s 4ms/step - loss: 1.2131 - accuracy: 0.4529 - val_loss: 1.2319 - val_accuracy: 0.4352\n",
            "Epoch 112/500\n",
            "24/24 [==============================] - 0s 4ms/step - loss: 1.2130 - accuracy: 0.4533 - val_loss: 1.2315 - val_accuracy: 0.4359\n",
            "Epoch 113/500\n",
            "24/24 [==============================] - 0s 4ms/step - loss: 1.2127 - accuracy: 0.4533 - val_loss: 1.2317 - val_accuracy: 0.4373\n",
            "Epoch 114/500\n",
            "24/24 [==============================] - 0s 5ms/step - loss: 1.2131 - accuracy: 0.4504 - val_loss: 1.2306 - val_accuracy: 0.4359\n",
            "Epoch 115/500\n",
            "24/24 [==============================] - 0s 4ms/step - loss: 1.2124 - accuracy: 0.4538 - val_loss: 1.2307 - val_accuracy: 0.4373\n",
            "Epoch 116/500\n",
            "24/24 [==============================] - 0s 4ms/step - loss: 1.2126 - accuracy: 0.4535 - val_loss: 1.2313 - val_accuracy: 0.4366\n",
            "Epoch 117/500\n",
            "24/24 [==============================] - 0s 4ms/step - loss: 1.2127 - accuracy: 0.4538 - val_loss: 1.2305 - val_accuracy: 0.4356\n",
            "Epoch 118/500\n",
            "24/24 [==============================] - 0s 4ms/step - loss: 1.2129 - accuracy: 0.4507 - val_loss: 1.2319 - val_accuracy: 0.4363\n",
            "Epoch 119/500\n",
            "24/24 [==============================] - 0s 4ms/step - loss: 1.2129 - accuracy: 0.4565 - val_loss: 1.2304 - val_accuracy: 0.4377\n",
            "Epoch 120/500\n",
            "24/24 [==============================] - 0s 4ms/step - loss: 1.2133 - accuracy: 0.4543 - val_loss: 1.2312 - val_accuracy: 0.4346\n",
            "Epoch 121/500\n",
            "24/24 [==============================] - 0s 4ms/step - loss: 1.2130 - accuracy: 0.4528 - val_loss: 1.2309 - val_accuracy: 0.4373\n",
            "Epoch 122/500\n",
            "24/24 [==============================] - 0s 5ms/step - loss: 1.2125 - accuracy: 0.4546 - val_loss: 1.2302 - val_accuracy: 0.4373\n",
            "Epoch 123/500\n",
            "24/24 [==============================] - 0s 4ms/step - loss: 1.2124 - accuracy: 0.4541 - val_loss: 1.2321 - val_accuracy: 0.4387\n",
            "Epoch 124/500\n",
            "24/24 [==============================] - 0s 4ms/step - loss: 1.2122 - accuracy: 0.4558 - val_loss: 1.2303 - val_accuracy: 0.4394\n",
            "Epoch 125/500\n",
            "24/24 [==============================] - 0s 4ms/step - loss: 1.2124 - accuracy: 0.4550 - val_loss: 1.2289 - val_accuracy: 0.4442\n",
            "Epoch 126/500\n",
            "24/24 [==============================] - 0s 4ms/step - loss: 1.2123 - accuracy: 0.4536 - val_loss: 1.2298 - val_accuracy: 0.4370\n",
            "Epoch 127/500\n",
            "24/24 [==============================] - 0s 4ms/step - loss: 1.2121 - accuracy: 0.4526 - val_loss: 1.2304 - val_accuracy: 0.4366\n",
            "Epoch 128/500\n",
            "24/24 [==============================] - 0s 4ms/step - loss: 1.2115 - accuracy: 0.4541 - val_loss: 1.2306 - val_accuracy: 0.4380\n",
            "Epoch 129/500\n",
            "24/24 [==============================] - 0s 4ms/step - loss: 1.2113 - accuracy: 0.4557 - val_loss: 1.2297 - val_accuracy: 0.4387\n",
            "Epoch 130/500\n",
            "24/24 [==============================] - 0s 4ms/step - loss: 1.2116 - accuracy: 0.4545 - val_loss: 1.2302 - val_accuracy: 0.4346\n",
            "Epoch 131/500\n",
            "24/24 [==============================] - 0s 4ms/step - loss: 1.2112 - accuracy: 0.4551 - val_loss: 1.2313 - val_accuracy: 0.4359\n",
            "Epoch 132/500\n",
            "24/24 [==============================] - 0s 4ms/step - loss: 1.2110 - accuracy: 0.4545 - val_loss: 1.2303 - val_accuracy: 0.4373\n",
            "Epoch 133/500\n",
            "24/24 [==============================] - 0s 4ms/step - loss: 1.2114 - accuracy: 0.4514 - val_loss: 1.2294 - val_accuracy: 0.4373\n",
            "Epoch 134/500\n",
            "24/24 [==============================] - 0s 4ms/step - loss: 1.2105 - accuracy: 0.4543 - val_loss: 1.2299 - val_accuracy: 0.4359\n",
            "Epoch 135/500\n",
            "24/24 [==============================] - 0s 4ms/step - loss: 1.2113 - accuracy: 0.4563 - val_loss: 1.2302 - val_accuracy: 0.4356\n",
            "Epoch 136/500\n",
            "24/24 [==============================] - 0s 4ms/step - loss: 1.2110 - accuracy: 0.4531 - val_loss: 1.2297 - val_accuracy: 0.4363\n",
            "Epoch 137/500\n",
            "24/24 [==============================] - 0s 4ms/step - loss: 1.2108 - accuracy: 0.4572 - val_loss: 1.2309 - val_accuracy: 0.4387\n",
            "Epoch 138/500\n",
            "24/24 [==============================] - 0s 4ms/step - loss: 1.2106 - accuracy: 0.4551 - val_loss: 1.2314 - val_accuracy: 0.4421\n",
            "Epoch 139/500\n",
            "24/24 [==============================] - 0s 6ms/step - loss: 1.2118 - accuracy: 0.4528 - val_loss: 1.2302 - val_accuracy: 0.4356\n",
            "Epoch 140/500\n",
            "24/24 [==============================] - 0s 4ms/step - loss: 1.2109 - accuracy: 0.4548 - val_loss: 1.2295 - val_accuracy: 0.4390\n",
            "Epoch 141/500\n",
            "24/24 [==============================] - 0s 6ms/step - loss: 1.2104 - accuracy: 0.4557 - val_loss: 1.2302 - val_accuracy: 0.4370\n",
            "Epoch 142/500\n",
            "24/24 [==============================] - 0s 7ms/step - loss: 1.2111 - accuracy: 0.4555 - val_loss: 1.2303 - val_accuracy: 0.4356\n",
            "Epoch 143/500\n",
            "24/24 [==============================] - 0s 8ms/step - loss: 1.2104 - accuracy: 0.4584 - val_loss: 1.2293 - val_accuracy: 0.4418\n",
            "Epoch 144/500\n",
            "24/24 [==============================] - 0s 6ms/step - loss: 1.2107 - accuracy: 0.4597 - val_loss: 1.2286 - val_accuracy: 0.4390\n",
            "Epoch 145/500\n",
            "24/24 [==============================] - 0s 6ms/step - loss: 1.2110 - accuracy: 0.4568 - val_loss: 1.2311 - val_accuracy: 0.4373\n",
            "Epoch 146/500\n",
            "24/24 [==============================] - 0s 6ms/step - loss: 1.2099 - accuracy: 0.4540 - val_loss: 1.2288 - val_accuracy: 0.4370\n",
            "Epoch 147/500\n",
            "24/24 [==============================] - 0s 7ms/step - loss: 1.2105 - accuracy: 0.4575 - val_loss: 1.2299 - val_accuracy: 0.4421\n",
            "Epoch 148/500\n",
            "24/24 [==============================] - 0s 6ms/step - loss: 1.2096 - accuracy: 0.4585 - val_loss: 1.2295 - val_accuracy: 0.4390\n",
            "Epoch 149/500\n",
            "24/24 [==============================] - 0s 8ms/step - loss: 1.2099 - accuracy: 0.4560 - val_loss: 1.2289 - val_accuracy: 0.4380\n",
            "Epoch 150/500\n",
            "24/24 [==============================] - 0s 6ms/step - loss: 1.2094 - accuracy: 0.4562 - val_loss: 1.2289 - val_accuracy: 0.4407\n",
            "Epoch 151/500\n",
            "24/24 [==============================] - 0s 6ms/step - loss: 1.2097 - accuracy: 0.4560 - val_loss: 1.2285 - val_accuracy: 0.4404\n",
            "Epoch 152/500\n",
            "24/24 [==============================] - 0s 6ms/step - loss: 1.2097 - accuracy: 0.4582 - val_loss: 1.2287 - val_accuracy: 0.4401\n",
            "Epoch 153/500\n",
            "24/24 [==============================] - 0s 7ms/step - loss: 1.2107 - accuracy: 0.4553 - val_loss: 1.2279 - val_accuracy: 0.4401\n",
            "Epoch 154/500\n",
            "24/24 [==============================] - 0s 7ms/step - loss: 1.2097 - accuracy: 0.4553 - val_loss: 1.2283 - val_accuracy: 0.4401\n",
            "Epoch 155/500\n",
            "24/24 [==============================] - 0s 7ms/step - loss: 1.2090 - accuracy: 0.4557 - val_loss: 1.2289 - val_accuracy: 0.4431\n",
            "Epoch 156/500\n",
            "24/24 [==============================] - 0s 6ms/step - loss: 1.2093 - accuracy: 0.4580 - val_loss: 1.2296 - val_accuracy: 0.4356\n",
            "Epoch 157/500\n",
            "24/24 [==============================] - 0s 5ms/step - loss: 1.2091 - accuracy: 0.4553 - val_loss: 1.2284 - val_accuracy: 0.4462\n",
            "Epoch 158/500\n",
            "24/24 [==============================] - 0s 8ms/step - loss: 1.2099 - accuracy: 0.4592 - val_loss: 1.2277 - val_accuracy: 0.4394\n",
            "Epoch 159/500\n",
            "24/24 [==============================] - 0s 6ms/step - loss: 1.2105 - accuracy: 0.4562 - val_loss: 1.2280 - val_accuracy: 0.4414\n",
            "Epoch 160/500\n",
            "24/24 [==============================] - 0s 6ms/step - loss: 1.2099 - accuracy: 0.4579 - val_loss: 1.2284 - val_accuracy: 0.4442\n",
            "Epoch 161/500\n",
            "24/24 [==============================] - 0s 6ms/step - loss: 1.2087 - accuracy: 0.4565 - val_loss: 1.2273 - val_accuracy: 0.4404\n",
            "Epoch 162/500\n",
            "24/24 [==============================] - 0s 7ms/step - loss: 1.2094 - accuracy: 0.4563 - val_loss: 1.2275 - val_accuracy: 0.4397\n",
            "Epoch 163/500\n",
            "24/24 [==============================] - 0s 6ms/step - loss: 1.2086 - accuracy: 0.4573 - val_loss: 1.2287 - val_accuracy: 0.4411\n",
            "Epoch 164/500\n",
            "24/24 [==============================] - 0s 6ms/step - loss: 1.2084 - accuracy: 0.4604 - val_loss: 1.2269 - val_accuracy: 0.4431\n",
            "Epoch 165/500\n",
            "24/24 [==============================] - 0s 8ms/step - loss: 1.2087 - accuracy: 0.4594 - val_loss: 1.2283 - val_accuracy: 0.4421\n",
            "Epoch 166/500\n",
            "24/24 [==============================] - 0s 7ms/step - loss: 1.2090 - accuracy: 0.4575 - val_loss: 1.2290 - val_accuracy: 0.4449\n",
            "Epoch 167/500\n",
            "24/24 [==============================] - 0s 8ms/step - loss: 1.2089 - accuracy: 0.4631 - val_loss: 1.2275 - val_accuracy: 0.4425\n",
            "Epoch 168/500\n",
            "24/24 [==============================] - 0s 5ms/step - loss: 1.2091 - accuracy: 0.4585 - val_loss: 1.2284 - val_accuracy: 0.4456\n",
            "Epoch 169/500\n",
            "24/24 [==============================] - 0s 4ms/step - loss: 1.2086 - accuracy: 0.4612 - val_loss: 1.2278 - val_accuracy: 0.4414\n",
            "Epoch 170/500\n",
            "24/24 [==============================] - 0s 4ms/step - loss: 1.2075 - accuracy: 0.4609 - val_loss: 1.2260 - val_accuracy: 0.4394\n",
            "Epoch 171/500\n",
            "24/24 [==============================] - 0s 4ms/step - loss: 1.2082 - accuracy: 0.4565 - val_loss: 1.2274 - val_accuracy: 0.4394\n",
            "Epoch 172/500\n",
            "24/24 [==============================] - 0s 4ms/step - loss: 1.2089 - accuracy: 0.4573 - val_loss: 1.2294 - val_accuracy: 0.4445\n",
            "Epoch 173/500\n",
            "24/24 [==============================] - 0s 4ms/step - loss: 1.2086 - accuracy: 0.4579 - val_loss: 1.2282 - val_accuracy: 0.4421\n",
            "Epoch 174/500\n",
            "24/24 [==============================] - 0s 4ms/step - loss: 1.2081 - accuracy: 0.4546 - val_loss: 1.2261 - val_accuracy: 0.4414\n",
            "Epoch 175/500\n",
            "24/24 [==============================] - 0s 4ms/step - loss: 1.2079 - accuracy: 0.4592 - val_loss: 1.2255 - val_accuracy: 0.4401\n",
            "Epoch 176/500\n",
            "24/24 [==============================] - 0s 4ms/step - loss: 1.2084 - accuracy: 0.4611 - val_loss: 1.2264 - val_accuracy: 0.4442\n",
            "Epoch 177/500\n",
            "24/24 [==============================] - 0s 4ms/step - loss: 1.2074 - accuracy: 0.4602 - val_loss: 1.2269 - val_accuracy: 0.4428\n",
            "Epoch 178/500\n",
            "24/24 [==============================] - 0s 5ms/step - loss: 1.2080 - accuracy: 0.4607 - val_loss: 1.2274 - val_accuracy: 0.4407\n",
            "Epoch 179/500\n",
            "24/24 [==============================] - 0s 4ms/step - loss: 1.2068 - accuracy: 0.4607 - val_loss: 1.2269 - val_accuracy: 0.4404\n",
            "Epoch 180/500\n",
            "24/24 [==============================] - 0s 4ms/step - loss: 1.2084 - accuracy: 0.4587 - val_loss: 1.2277 - val_accuracy: 0.4466\n",
            "Epoch 181/500\n",
            "24/24 [==============================] - 0s 4ms/step - loss: 1.2069 - accuracy: 0.4590 - val_loss: 1.2263 - val_accuracy: 0.4397\n",
            "Epoch 182/500\n",
            "24/24 [==============================] - 0s 5ms/step - loss: 1.2070 - accuracy: 0.4634 - val_loss: 1.2262 - val_accuracy: 0.4411\n",
            "Epoch 183/500\n",
            "24/24 [==============================] - 0s 4ms/step - loss: 1.2070 - accuracy: 0.4562 - val_loss: 1.2261 - val_accuracy: 0.4401\n",
            "Epoch 184/500\n",
            "24/24 [==============================] - 0s 4ms/step - loss: 1.2066 - accuracy: 0.4623 - val_loss: 1.2273 - val_accuracy: 0.4442\n",
            "Epoch 185/500\n",
            "24/24 [==============================] - 0s 4ms/step - loss: 1.2066 - accuracy: 0.4601 - val_loss: 1.2263 - val_accuracy: 0.4394\n",
            "Epoch 186/500\n",
            "24/24 [==============================] - 0s 4ms/step - loss: 1.2072 - accuracy: 0.4611 - val_loss: 1.2267 - val_accuracy: 0.4425\n",
            "Epoch 187/500\n",
            "24/24 [==============================] - 0s 4ms/step - loss: 1.2070 - accuracy: 0.4617 - val_loss: 1.2272 - val_accuracy: 0.4428\n",
            "Epoch 188/500\n",
            "24/24 [==============================] - 0s 4ms/step - loss: 1.2073 - accuracy: 0.4629 - val_loss: 1.2259 - val_accuracy: 0.4394\n",
            "Epoch 189/500\n",
            "24/24 [==============================] - 0s 4ms/step - loss: 1.2064 - accuracy: 0.4614 - val_loss: 1.2264 - val_accuracy: 0.4414\n",
            "Epoch 190/500\n",
            "24/24 [==============================] - 0s 4ms/step - loss: 1.2066 - accuracy: 0.4612 - val_loss: 1.2263 - val_accuracy: 0.4438\n",
            "Epoch 191/500\n",
            "24/24 [==============================] - 0s 4ms/step - loss: 1.2066 - accuracy: 0.4667 - val_loss: 1.2253 - val_accuracy: 0.4438\n",
            "Epoch 192/500\n",
            "24/24 [==============================] - 0s 4ms/step - loss: 1.2071 - accuracy: 0.4609 - val_loss: 1.2259 - val_accuracy: 0.4442\n",
            "Epoch 193/500\n",
            "24/24 [==============================] - 0s 4ms/step - loss: 1.2066 - accuracy: 0.4609 - val_loss: 1.2269 - val_accuracy: 0.4425\n",
            "Epoch 194/500\n",
            "24/24 [==============================] - 0s 4ms/step - loss: 1.2070 - accuracy: 0.4629 - val_loss: 1.2250 - val_accuracy: 0.4504\n",
            "Epoch 195/500\n",
            "24/24 [==============================] - 0s 4ms/step - loss: 1.2058 - accuracy: 0.4628 - val_loss: 1.2260 - val_accuracy: 0.4390\n",
            "Epoch 196/500\n",
            "24/24 [==============================] - 0s 4ms/step - loss: 1.2058 - accuracy: 0.4641 - val_loss: 1.2274 - val_accuracy: 0.4456\n",
            "Epoch 197/500\n",
            "24/24 [==============================] - 0s 4ms/step - loss: 1.2061 - accuracy: 0.4643 - val_loss: 1.2251 - val_accuracy: 0.4425\n",
            "Epoch 198/500\n",
            "24/24 [==============================] - 0s 4ms/step - loss: 1.2053 - accuracy: 0.4658 - val_loss: 1.2253 - val_accuracy: 0.4435\n",
            "Epoch 199/500\n",
            "24/24 [==============================] - 0s 4ms/step - loss: 1.2066 - accuracy: 0.4601 - val_loss: 1.2251 - val_accuracy: 0.4411\n",
            "Epoch 200/500\n",
            "24/24 [==============================] - 0s 4ms/step - loss: 1.2064 - accuracy: 0.4636 - val_loss: 1.2264 - val_accuracy: 0.4421\n",
            "Epoch 201/500\n",
            "24/24 [==============================] - 0s 4ms/step - loss: 1.2055 - accuracy: 0.4619 - val_loss: 1.2248 - val_accuracy: 0.4431\n",
            "Epoch 202/500\n",
            "24/24 [==============================] - 0s 4ms/step - loss: 1.2062 - accuracy: 0.4648 - val_loss: 1.2262 - val_accuracy: 0.4442\n",
            "Epoch 203/500\n",
            "24/24 [==============================] - 0s 4ms/step - loss: 1.2064 - accuracy: 0.4609 - val_loss: 1.2253 - val_accuracy: 0.4404\n",
            "Epoch 204/500\n",
            "24/24 [==============================] - 0s 4ms/step - loss: 1.2061 - accuracy: 0.4624 - val_loss: 1.2248 - val_accuracy: 0.4428\n",
            "Epoch 205/500\n",
            "24/24 [==============================] - 0s 4ms/step - loss: 1.2054 - accuracy: 0.4639 - val_loss: 1.2244 - val_accuracy: 0.4442\n",
            "Epoch 206/500\n",
            "24/24 [==============================] - 0s 8ms/step - loss: 1.2047 - accuracy: 0.4645 - val_loss: 1.2246 - val_accuracy: 0.4397\n",
            "Epoch 207/500\n",
            "24/24 [==============================] - 0s 8ms/step - loss: 1.2050 - accuracy: 0.4636 - val_loss: 1.2256 - val_accuracy: 0.4404\n",
            "Epoch 208/500\n",
            "24/24 [==============================] - 0s 8ms/step - loss: 1.2047 - accuracy: 0.4631 - val_loss: 1.2244 - val_accuracy: 0.4442\n",
            "Epoch 209/500\n",
            "24/24 [==============================] - 0s 6ms/step - loss: 1.2048 - accuracy: 0.4639 - val_loss: 1.2249 - val_accuracy: 0.4442\n",
            "Epoch 210/500\n",
            "24/24 [==============================] - 0s 8ms/step - loss: 1.2053 - accuracy: 0.4651 - val_loss: 1.2241 - val_accuracy: 0.4476\n",
            "Epoch 211/500\n",
            "24/24 [==============================] - 0s 8ms/step - loss: 1.2042 - accuracy: 0.4653 - val_loss: 1.2242 - val_accuracy: 0.4438\n",
            "Epoch 212/500\n",
            "24/24 [==============================] - 0s 8ms/step - loss: 1.2060 - accuracy: 0.4634 - val_loss: 1.2248 - val_accuracy: 0.4414\n",
            "Epoch 213/500\n",
            "24/24 [==============================] - 0s 6ms/step - loss: 1.2043 - accuracy: 0.4656 - val_loss: 1.2234 - val_accuracy: 0.4445\n",
            "Epoch 214/500\n",
            "24/24 [==============================] - 0s 7ms/step - loss: 1.2043 - accuracy: 0.4663 - val_loss: 1.2234 - val_accuracy: 0.4486\n",
            "Epoch 215/500\n",
            "24/24 [==============================] - 0s 5ms/step - loss: 1.2044 - accuracy: 0.4634 - val_loss: 1.2241 - val_accuracy: 0.4459\n",
            "Epoch 216/500\n",
            "24/24 [==============================] - 0s 8ms/step - loss: 1.2044 - accuracy: 0.4636 - val_loss: 1.2238 - val_accuracy: 0.4449\n",
            "Epoch 217/500\n",
            "24/24 [==============================] - 0s 8ms/step - loss: 1.2045 - accuracy: 0.4673 - val_loss: 1.2243 - val_accuracy: 0.4435\n",
            "Epoch 218/500\n",
            "24/24 [==============================] - 0s 8ms/step - loss: 1.2042 - accuracy: 0.4665 - val_loss: 1.2243 - val_accuracy: 0.4442\n",
            "Epoch 219/500\n",
            "24/24 [==============================] - 0s 7ms/step - loss: 1.2057 - accuracy: 0.4658 - val_loss: 1.2236 - val_accuracy: 0.4431\n",
            "Epoch 220/500\n",
            "24/24 [==============================] - 0s 6ms/step - loss: 1.2050 - accuracy: 0.4645 - val_loss: 1.2237 - val_accuracy: 0.4438\n",
            "Epoch 221/500\n",
            "24/24 [==============================] - 0s 6ms/step - loss: 1.2047 - accuracy: 0.4626 - val_loss: 1.2229 - val_accuracy: 0.4480\n",
            "Epoch 222/500\n",
            "24/24 [==============================] - 0s 8ms/step - loss: 1.2041 - accuracy: 0.4629 - val_loss: 1.2247 - val_accuracy: 0.4442\n",
            "Epoch 223/500\n",
            "24/24 [==============================] - 0s 16ms/step - loss: 1.2063 - accuracy: 0.4628 - val_loss: 1.2233 - val_accuracy: 0.4452\n",
            "Epoch 224/500\n",
            "24/24 [==============================] - 0s 10ms/step - loss: 1.2042 - accuracy: 0.4631 - val_loss: 1.2231 - val_accuracy: 0.4445\n",
            "Epoch 225/500\n",
            "24/24 [==============================] - 0s 7ms/step - loss: 1.2038 - accuracy: 0.4665 - val_loss: 1.2237 - val_accuracy: 0.4445\n",
            "Epoch 226/500\n",
            "24/24 [==============================] - 0s 8ms/step - loss: 1.2035 - accuracy: 0.4626 - val_loss: 1.2232 - val_accuracy: 0.4438\n",
            "Epoch 227/500\n",
            "24/24 [==============================] - 0s 8ms/step - loss: 1.2039 - accuracy: 0.4661 - val_loss: 1.2231 - val_accuracy: 0.4452\n",
            "Epoch 228/500\n",
            "24/24 [==============================] - 0s 6ms/step - loss: 1.2033 - accuracy: 0.4689 - val_loss: 1.2234 - val_accuracy: 0.4435\n",
            "Epoch 229/500\n",
            "24/24 [==============================] - 0s 7ms/step - loss: 1.2034 - accuracy: 0.4682 - val_loss: 1.2232 - val_accuracy: 0.4462\n",
            "Epoch 230/500\n",
            "24/24 [==============================] - 0s 7ms/step - loss: 1.2038 - accuracy: 0.4636 - val_loss: 1.2232 - val_accuracy: 0.4435\n",
            "Epoch 231/500\n",
            "24/24 [==============================] - 0s 6ms/step - loss: 1.2035 - accuracy: 0.4641 - val_loss: 1.2239 - val_accuracy: 0.4459\n",
            "Epoch 232/500\n",
            "24/24 [==============================] - 0s 8ms/step - loss: 1.2029 - accuracy: 0.4643 - val_loss: 1.2227 - val_accuracy: 0.4418\n",
            "Epoch 233/500\n",
            "24/24 [==============================] - 0s 8ms/step - loss: 1.2034 - accuracy: 0.4687 - val_loss: 1.2251 - val_accuracy: 0.4476\n",
            "Epoch 234/500\n",
            "24/24 [==============================] - 0s 6ms/step - loss: 1.2037 - accuracy: 0.4641 - val_loss: 1.2224 - val_accuracy: 0.4435\n",
            "Epoch 235/500\n",
            "24/24 [==============================] - 0s 4ms/step - loss: 1.2028 - accuracy: 0.4648 - val_loss: 1.2230 - val_accuracy: 0.4428\n",
            "Epoch 236/500\n",
            "24/24 [==============================] - 0s 8ms/step - loss: 1.2032 - accuracy: 0.4660 - val_loss: 1.2222 - val_accuracy: 0.4469\n",
            "Epoch 237/500\n",
            "24/24 [==============================] - 0s 8ms/step - loss: 1.2030 - accuracy: 0.4677 - val_loss: 1.2222 - val_accuracy: 0.4476\n",
            "Epoch 238/500\n",
            "24/24 [==============================] - 0s 9ms/step - loss: 1.2026 - accuracy: 0.4668 - val_loss: 1.2241 - val_accuracy: 0.4456\n",
            "Epoch 239/500\n",
            "24/24 [==============================] - 0s 12ms/step - loss: 1.2025 - accuracy: 0.4668 - val_loss: 1.2224 - val_accuracy: 0.4486\n",
            "Epoch 240/500\n",
            "24/24 [==============================] - 0s 12ms/step - loss: 1.2031 - accuracy: 0.4661 - val_loss: 1.2221 - val_accuracy: 0.4480\n",
            "Epoch 241/500\n",
            "24/24 [==============================] - 0s 11ms/step - loss: 1.2031 - accuracy: 0.4675 - val_loss: 1.2234 - val_accuracy: 0.4500\n",
            "Epoch 242/500\n",
            "24/24 [==============================] - 0s 12ms/step - loss: 1.2048 - accuracy: 0.4636 - val_loss: 1.2213 - val_accuracy: 0.4483\n",
            "Epoch 243/500\n",
            "24/24 [==============================] - 0s 12ms/step - loss: 1.2035 - accuracy: 0.4677 - val_loss: 1.2222 - val_accuracy: 0.4445\n",
            "Epoch 244/500\n",
            "24/24 [==============================] - 0s 11ms/step - loss: 1.2020 - accuracy: 0.4668 - val_loss: 1.2235 - val_accuracy: 0.4452\n",
            "Epoch 245/500\n",
            "24/24 [==============================] - 0s 11ms/step - loss: 1.2034 - accuracy: 0.4687 - val_loss: 1.2214 - val_accuracy: 0.4490\n",
            "Epoch 246/500\n",
            "24/24 [==============================] - 0s 11ms/step - loss: 1.2030 - accuracy: 0.4672 - val_loss: 1.2220 - val_accuracy: 0.4456\n",
            "Epoch 247/500\n",
            "24/24 [==============================] - 0s 12ms/step - loss: 1.2028 - accuracy: 0.4660 - val_loss: 1.2216 - val_accuracy: 0.4459\n",
            "Epoch 248/500\n",
            "24/24 [==============================] - 0s 10ms/step - loss: 1.2024 - accuracy: 0.4678 - val_loss: 1.2214 - val_accuracy: 0.4480\n",
            "Epoch 249/500\n",
            "24/24 [==============================] - 0s 15ms/step - loss: 1.2024 - accuracy: 0.4653 - val_loss: 1.2222 - val_accuracy: 0.4469\n",
            "Epoch 250/500\n",
            "24/24 [==============================] - 0s 8ms/step - loss: 1.2028 - accuracy: 0.4705 - val_loss: 1.2216 - val_accuracy: 0.4473\n",
            "Epoch 251/500\n",
            "24/24 [==============================] - 0s 7ms/step - loss: 1.2029 - accuracy: 0.4677 - val_loss: 1.2213 - val_accuracy: 0.4476\n",
            "Epoch 252/500\n",
            "24/24 [==============================] - 0s 7ms/step - loss: 1.2033 - accuracy: 0.4638 - val_loss: 1.2208 - val_accuracy: 0.4480\n",
            "Epoch 253/500\n",
            "24/24 [==============================] - 0s 6ms/step - loss: 1.2027 - accuracy: 0.4668 - val_loss: 1.2226 - val_accuracy: 0.4504\n",
            "Epoch 254/500\n",
            "24/24 [==============================] - 0s 7ms/step - loss: 1.2019 - accuracy: 0.4694 - val_loss: 1.2223 - val_accuracy: 0.4449\n",
            "Epoch 255/500\n",
            "24/24 [==============================] - 0s 6ms/step - loss: 1.2034 - accuracy: 0.4648 - val_loss: 1.2225 - val_accuracy: 0.4473\n",
            "Epoch 256/500\n",
            "24/24 [==============================] - 0s 7ms/step - loss: 1.2029 - accuracy: 0.4650 - val_loss: 1.2230 - val_accuracy: 0.4476\n",
            "Epoch 257/500\n",
            "24/24 [==============================] - 0s 6ms/step - loss: 1.2026 - accuracy: 0.4667 - val_loss: 1.2217 - val_accuracy: 0.4466\n",
            "Epoch 258/500\n",
            "24/24 [==============================] - 0s 4ms/step - loss: 1.2023 - accuracy: 0.4685 - val_loss: 1.2213 - val_accuracy: 0.4459\n",
            "Epoch 259/500\n",
            "24/24 [==============================] - 0s 4ms/step - loss: 1.2032 - accuracy: 0.4660 - val_loss: 1.2219 - val_accuracy: 0.4431\n",
            "Epoch 260/500\n",
            "24/24 [==============================] - 0s 4ms/step - loss: 1.2023 - accuracy: 0.4678 - val_loss: 1.2209 - val_accuracy: 0.4524\n",
            "Epoch 261/500\n",
            "24/24 [==============================] - 0s 4ms/step - loss: 1.2021 - accuracy: 0.4682 - val_loss: 1.2215 - val_accuracy: 0.4428\n",
            "Epoch 262/500\n",
            "24/24 [==============================] - 0s 4ms/step - loss: 1.2029 - accuracy: 0.4661 - val_loss: 1.2222 - val_accuracy: 0.4473\n",
            "Epoch 263/500\n",
            "24/24 [==============================] - 0s 5ms/step - loss: 1.2018 - accuracy: 0.4668 - val_loss: 1.2208 - val_accuracy: 0.4517\n",
            "Epoch 264/500\n",
            "24/24 [==============================] - 0s 4ms/step - loss: 1.2017 - accuracy: 0.4700 - val_loss: 1.2215 - val_accuracy: 0.4459\n",
            "Epoch 265/500\n",
            "24/24 [==============================] - 0s 5ms/step - loss: 1.2014 - accuracy: 0.4711 - val_loss: 1.2212 - val_accuracy: 0.4469\n",
            "Epoch 266/500\n",
            "24/24 [==============================] - 0s 5ms/step - loss: 1.2018 - accuracy: 0.4677 - val_loss: 1.2239 - val_accuracy: 0.4486\n",
            "Epoch 267/500\n",
            "24/24 [==============================] - 0s 4ms/step - loss: 1.2026 - accuracy: 0.4651 - val_loss: 1.2208 - val_accuracy: 0.4466\n",
            "Epoch 268/500\n",
            "24/24 [==============================] - 0s 5ms/step - loss: 1.2029 - accuracy: 0.4626 - val_loss: 1.2205 - val_accuracy: 0.4480\n",
            "Epoch 269/500\n",
            "24/24 [==============================] - 0s 4ms/step - loss: 1.2017 - accuracy: 0.4712 - val_loss: 1.2209 - val_accuracy: 0.4452\n",
            "Epoch 270/500\n",
            "24/24 [==============================] - 0s 4ms/step - loss: 1.2019 - accuracy: 0.4709 - val_loss: 1.2211 - val_accuracy: 0.4449\n",
            "Epoch 271/500\n",
            "24/24 [==============================] - 0s 4ms/step - loss: 1.2013 - accuracy: 0.4680 - val_loss: 1.2204 - val_accuracy: 0.4449\n",
            "Epoch 272/500\n",
            "24/24 [==============================] - 0s 4ms/step - loss: 1.2042 - accuracy: 0.4633 - val_loss: 1.2203 - val_accuracy: 0.4473\n",
            "Epoch 273/500\n",
            "24/24 [==============================] - 0s 4ms/step - loss: 1.2015 - accuracy: 0.4692 - val_loss: 1.2218 - val_accuracy: 0.4456\n",
            "Epoch 274/500\n",
            "24/24 [==============================] - 0s 5ms/step - loss: 1.2017 - accuracy: 0.4672 - val_loss: 1.2218 - val_accuracy: 0.4462\n",
            "Epoch 275/500\n",
            "24/24 [==============================] - 0s 5ms/step - loss: 1.2015 - accuracy: 0.4692 - val_loss: 1.2198 - val_accuracy: 0.4452\n",
            "Epoch 276/500\n",
            "24/24 [==============================] - 0s 4ms/step - loss: 1.2012 - accuracy: 0.4665 - val_loss: 1.2212 - val_accuracy: 0.4449\n",
            "Epoch 277/500\n",
            "24/24 [==============================] - 0s 4ms/step - loss: 1.2021 - accuracy: 0.4689 - val_loss: 1.2203 - val_accuracy: 0.4476\n",
            "Epoch 278/500\n",
            "24/24 [==============================] - 0s 4ms/step - loss: 1.2017 - accuracy: 0.4699 - val_loss: 1.2205 - val_accuracy: 0.4490\n",
            "Epoch 279/500\n",
            "24/24 [==============================] - 0s 4ms/step - loss: 1.2018 - accuracy: 0.4670 - val_loss: 1.2216 - val_accuracy: 0.4497\n",
            "Epoch 280/500\n",
            "24/24 [==============================] - 0s 4ms/step - loss: 1.2016 - accuracy: 0.4707 - val_loss: 1.2208 - val_accuracy: 0.4476\n",
            "Epoch 281/500\n",
            "24/24 [==============================] - 0s 4ms/step - loss: 1.2020 - accuracy: 0.4689 - val_loss: 1.2216 - val_accuracy: 0.4480\n",
            "Epoch 282/500\n",
            "24/24 [==============================] - 0s 4ms/step - loss: 1.2015 - accuracy: 0.4658 - val_loss: 1.2207 - val_accuracy: 0.4473\n",
            "Epoch 283/500\n",
            "24/24 [==============================] - 0s 4ms/step - loss: 1.2010 - accuracy: 0.4712 - val_loss: 1.2213 - val_accuracy: 0.4456\n",
            "Epoch 284/500\n",
            "24/24 [==============================] - 0s 5ms/step - loss: 1.2011 - accuracy: 0.4702 - val_loss: 1.2207 - val_accuracy: 0.4480\n",
            "Epoch 285/500\n",
            "24/24 [==============================] - 0s 4ms/step - loss: 1.2012 - accuracy: 0.4716 - val_loss: 1.2208 - val_accuracy: 0.4476\n",
            "Epoch 286/500\n",
            "24/24 [==============================] - 0s 4ms/step - loss: 1.2012 - accuracy: 0.4672 - val_loss: 1.2200 - val_accuracy: 0.4486\n",
            "Epoch 287/500\n",
            "24/24 [==============================] - 0s 4ms/step - loss: 1.2015 - accuracy: 0.4683 - val_loss: 1.2199 - val_accuracy: 0.4476\n",
            "Epoch 288/500\n",
            "24/24 [==============================] - 0s 4ms/step - loss: 1.2013 - accuracy: 0.4672 - val_loss: 1.2201 - val_accuracy: 0.4456\n",
            "Epoch 289/500\n",
            "24/24 [==============================] - 0s 5ms/step - loss: 1.2014 - accuracy: 0.4690 - val_loss: 1.2203 - val_accuracy: 0.4449\n",
            "Epoch 290/500\n",
            "24/24 [==============================] - 0s 4ms/step - loss: 1.2015 - accuracy: 0.4653 - val_loss: 1.2223 - val_accuracy: 0.4476\n",
            "Epoch 291/500\n",
            "24/24 [==============================] - 0s 4ms/step - loss: 1.2023 - accuracy: 0.4638 - val_loss: 1.2215 - val_accuracy: 0.4507\n",
            "Epoch 292/500\n",
            "24/24 [==============================] - 0s 4ms/step - loss: 1.2012 - accuracy: 0.4711 - val_loss: 1.2207 - val_accuracy: 0.4449\n",
            "Epoch 293/500\n",
            "24/24 [==============================] - 0s 5ms/step - loss: 1.2008 - accuracy: 0.4661 - val_loss: 1.2218 - val_accuracy: 0.4507\n",
            "Epoch 294/500\n",
            "24/24 [==============================] - 0s 4ms/step - loss: 1.2010 - accuracy: 0.4697 - val_loss: 1.2208 - val_accuracy: 0.4438\n",
            "Epoch 295/500\n",
            "24/24 [==============================] - 0s 4ms/step - loss: 1.2014 - accuracy: 0.4675 - val_loss: 1.2203 - val_accuracy: 0.4462\n",
            "Epoch 296/500\n",
            "24/24 [==============================] - 0s 5ms/step - loss: 1.2008 - accuracy: 0.4690 - val_loss: 1.2220 - val_accuracy: 0.4466\n",
            "Epoch 297/500\n",
            "24/24 [==============================] - 0s 4ms/step - loss: 1.2004 - accuracy: 0.4695 - val_loss: 1.2208 - val_accuracy: 0.4418\n",
            "Epoch 298/500\n",
            "24/24 [==============================] - 0s 4ms/step - loss: 1.2007 - accuracy: 0.4678 - val_loss: 1.2218 - val_accuracy: 0.4476\n",
            "Epoch 299/500\n",
            "24/24 [==============================] - 0s 4ms/step - loss: 1.2010 - accuracy: 0.4687 - val_loss: 1.2199 - val_accuracy: 0.4466\n",
            "Epoch 300/500\n",
            "24/24 [==============================] - 0s 4ms/step - loss: 1.2016 - accuracy: 0.4673 - val_loss: 1.2194 - val_accuracy: 0.4497\n",
            "Epoch 301/500\n",
            "24/24 [==============================] - 0s 4ms/step - loss: 1.2008 - accuracy: 0.4711 - val_loss: 1.2200 - val_accuracy: 0.4449\n",
            "Epoch 302/500\n",
            "24/24 [==============================] - 0s 6ms/step - loss: 1.2015 - accuracy: 0.4665 - val_loss: 1.2202 - val_accuracy: 0.4497\n",
            "Epoch 303/500\n",
            "24/24 [==============================] - 0s 4ms/step - loss: 1.2014 - accuracy: 0.4677 - val_loss: 1.2199 - val_accuracy: 0.4449\n",
            "Epoch 304/500\n",
            "24/24 [==============================] - 0s 4ms/step - loss: 1.2010 - accuracy: 0.4658 - val_loss: 1.2205 - val_accuracy: 0.4414\n",
            "Epoch 305/500\n",
            "24/24 [==============================] - 0s 5ms/step - loss: 1.2005 - accuracy: 0.4667 - val_loss: 1.2208 - val_accuracy: 0.4449\n",
            "Epoch 306/500\n",
            "24/24 [==============================] - 0s 4ms/step - loss: 1.2002 - accuracy: 0.4699 - val_loss: 1.2202 - val_accuracy: 0.4456\n",
            "Epoch 307/500\n",
            "24/24 [==============================] - 0s 4ms/step - loss: 1.2006 - accuracy: 0.4702 - val_loss: 1.2198 - val_accuracy: 0.4445\n",
            "Epoch 308/500\n",
            "24/24 [==============================] - 0s 4ms/step - loss: 1.2011 - accuracy: 0.4658 - val_loss: 1.2197 - val_accuracy: 0.4449\n",
            "Epoch 309/500\n",
            "24/24 [==============================] - 0s 4ms/step - loss: 1.1996 - accuracy: 0.4675 - val_loss: 1.2193 - val_accuracy: 0.4466\n",
            "Epoch 310/500\n",
            "24/24 [==============================] - 0s 4ms/step - loss: 1.2007 - accuracy: 0.4680 - val_loss: 1.2200 - val_accuracy: 0.4473\n",
            "Epoch 311/500\n",
            "24/24 [==============================] - 0s 5ms/step - loss: 1.2012 - accuracy: 0.4665 - val_loss: 1.2193 - val_accuracy: 0.4483\n",
            "Epoch 312/500\n",
            "24/24 [==============================] - 0s 4ms/step - loss: 1.2005 - accuracy: 0.4663 - val_loss: 1.2198 - val_accuracy: 0.4473\n",
            "Epoch 313/500\n",
            "24/24 [==============================] - 0s 4ms/step - loss: 1.2009 - accuracy: 0.4705 - val_loss: 1.2226 - val_accuracy: 0.4493\n",
            "Epoch 314/500\n",
            "24/24 [==============================] - 0s 5ms/step - loss: 1.2017 - accuracy: 0.4660 - val_loss: 1.2204 - val_accuracy: 0.4486\n",
            "Epoch 315/500\n",
            "24/24 [==============================] - 0s 4ms/step - loss: 1.2006 - accuracy: 0.4683 - val_loss: 1.2194 - val_accuracy: 0.4449\n",
            "Epoch 316/500\n",
            "24/24 [==============================] - 0s 4ms/step - loss: 1.2010 - accuracy: 0.4658 - val_loss: 1.2201 - val_accuracy: 0.4449\n",
            "Epoch 317/500\n",
            "24/24 [==============================] - 0s 4ms/step - loss: 1.2005 - accuracy: 0.4668 - val_loss: 1.2208 - val_accuracy: 0.4411\n",
            "Epoch 318/500\n",
            "24/24 [==============================] - 0s 4ms/step - loss: 1.2002 - accuracy: 0.4702 - val_loss: 1.2201 - val_accuracy: 0.4428\n",
            "Epoch 319/500\n",
            "24/24 [==============================] - 0s 4ms/step - loss: 1.2006 - accuracy: 0.4665 - val_loss: 1.2191 - val_accuracy: 0.4438\n",
            "Epoch 320/500\n",
            "24/24 [==============================] - 0s 4ms/step - loss: 1.2013 - accuracy: 0.4689 - val_loss: 1.2201 - val_accuracy: 0.4445\n",
            "Epoch 321/500\n",
            "24/24 [==============================] - 0s 4ms/step - loss: 1.2003 - accuracy: 0.4682 - val_loss: 1.2191 - val_accuracy: 0.4469\n",
            "Epoch 322/500\n",
            "24/24 [==============================] - 0s 4ms/step - loss: 1.2002 - accuracy: 0.4692 - val_loss: 1.2183 - val_accuracy: 0.4483\n",
            "Epoch 323/500\n",
            "24/24 [==============================] - 0s 5ms/step - loss: 1.2005 - accuracy: 0.4702 - val_loss: 1.2193 - val_accuracy: 0.4431\n",
            "Epoch 324/500\n",
            "24/24 [==============================] - 0s 4ms/step - loss: 1.2005 - accuracy: 0.4675 - val_loss: 1.2198 - val_accuracy: 0.4456\n",
            "Epoch 325/500\n",
            "24/24 [==============================] - 0s 4ms/step - loss: 1.2002 - accuracy: 0.4645 - val_loss: 1.2188 - val_accuracy: 0.4452\n",
            "Epoch 326/500\n",
            "24/24 [==============================] - 0s 4ms/step - loss: 1.1993 - accuracy: 0.4694 - val_loss: 1.2196 - val_accuracy: 0.4510\n",
            "Epoch 327/500\n",
            "24/24 [==============================] - 0s 5ms/step - loss: 1.2004 - accuracy: 0.4638 - val_loss: 1.2200 - val_accuracy: 0.4431\n",
            "Epoch 328/500\n",
            "24/24 [==============================] - 0s 4ms/step - loss: 1.2003 - accuracy: 0.4667 - val_loss: 1.2193 - val_accuracy: 0.4476\n",
            "Epoch 329/500\n",
            "24/24 [==============================] - 0s 4ms/step - loss: 1.1999 - accuracy: 0.4667 - val_loss: 1.2194 - val_accuracy: 0.4445\n",
            "Epoch 330/500\n",
            "24/24 [==============================] - 0s 5ms/step - loss: 1.2003 - accuracy: 0.4683 - val_loss: 1.2211 - val_accuracy: 0.4456\n",
            "Epoch 331/500\n",
            "24/24 [==============================] - 0s 5ms/step - loss: 1.2006 - accuracy: 0.4651 - val_loss: 1.2212 - val_accuracy: 0.4425\n",
            "Epoch 332/500\n",
            "24/24 [==============================] - 0s 4ms/step - loss: 1.2005 - accuracy: 0.4665 - val_loss: 1.2194 - val_accuracy: 0.4497\n",
            "Epoch 333/500\n",
            "24/24 [==============================] - 0s 4ms/step - loss: 1.2004 - accuracy: 0.4648 - val_loss: 1.2206 - val_accuracy: 0.4480\n",
            "Epoch 334/500\n",
            "24/24 [==============================] - 0s 4ms/step - loss: 1.2020 - accuracy: 0.4651 - val_loss: 1.2193 - val_accuracy: 0.4449\n",
            "Epoch 335/500\n",
            "24/24 [==============================] - 0s 5ms/step - loss: 1.1998 - accuracy: 0.4689 - val_loss: 1.2185 - val_accuracy: 0.4483\n",
            "Epoch 336/500\n",
            "24/24 [==============================] - 0s 4ms/step - loss: 1.1992 - accuracy: 0.4705 - val_loss: 1.2186 - val_accuracy: 0.4449\n",
            "Epoch 337/500\n",
            "24/24 [==============================] - 0s 5ms/step - loss: 1.1998 - accuracy: 0.4658 - val_loss: 1.2187 - val_accuracy: 0.4480\n",
            "Epoch 338/500\n",
            "24/24 [==============================] - 0s 4ms/step - loss: 1.1999 - accuracy: 0.4672 - val_loss: 1.2181 - val_accuracy: 0.4490\n",
            "Epoch 339/500\n",
            "24/24 [==============================] - 0s 4ms/step - loss: 1.2000 - accuracy: 0.4700 - val_loss: 1.2182 - val_accuracy: 0.4459\n",
            "Epoch 340/500\n",
            "24/24 [==============================] - 0s 5ms/step - loss: 1.2000 - accuracy: 0.4645 - val_loss: 1.2184 - val_accuracy: 0.4466\n",
            "Epoch 341/500\n",
            "24/24 [==============================] - 0s 4ms/step - loss: 1.1993 - accuracy: 0.4689 - val_loss: 1.2187 - val_accuracy: 0.4486\n",
            "Epoch 342/500\n",
            "24/24 [==============================] - 0s 5ms/step - loss: 1.1999 - accuracy: 0.4694 - val_loss: 1.2196 - val_accuracy: 0.4459\n",
            "Epoch 343/500\n",
            "24/24 [==============================] - 0s 4ms/step - loss: 1.1999 - accuracy: 0.4645 - val_loss: 1.2216 - val_accuracy: 0.4456\n",
            "Epoch 344/500\n",
            "24/24 [==============================] - 0s 4ms/step - loss: 1.2002 - accuracy: 0.4650 - val_loss: 1.2191 - val_accuracy: 0.4493\n",
            "Epoch 345/500\n",
            "24/24 [==============================] - 0s 4ms/step - loss: 1.1999 - accuracy: 0.4704 - val_loss: 1.2200 - val_accuracy: 0.4476\n",
            "Epoch 346/500\n",
            "24/24 [==============================] - 0s 4ms/step - loss: 1.2000 - accuracy: 0.4687 - val_loss: 1.2210 - val_accuracy: 0.4510\n",
            "Epoch 347/500\n",
            "24/24 [==============================] - 0s 4ms/step - loss: 1.1999 - accuracy: 0.4677 - val_loss: 1.2191 - val_accuracy: 0.4449\n",
            "Epoch 348/500\n",
            "24/24 [==============================] - 0s 4ms/step - loss: 1.2000 - accuracy: 0.4667 - val_loss: 1.2197 - val_accuracy: 0.4480\n",
            "Epoch 349/500\n",
            "24/24 [==============================] - 0s 8ms/step - loss: 1.1994 - accuracy: 0.4687 - val_loss: 1.2193 - val_accuracy: 0.4497\n",
            "Epoch 350/500\n",
            "24/24 [==============================] - 0s 7ms/step - loss: 1.1998 - accuracy: 0.4670 - val_loss: 1.2190 - val_accuracy: 0.4445\n",
            "Epoch 351/500\n",
            "24/24 [==============================] - 0s 7ms/step - loss: 1.1990 - accuracy: 0.4682 - val_loss: 1.2184 - val_accuracy: 0.4425\n",
            "Epoch 352/500\n",
            "24/24 [==============================] - 0s 5ms/step - loss: 1.2000 - accuracy: 0.4653 - val_loss: 1.2206 - val_accuracy: 0.4500\n",
            "Epoch 353/500\n",
            "24/24 [==============================] - 0s 7ms/step - loss: 1.2003 - accuracy: 0.4675 - val_loss: 1.2192 - val_accuracy: 0.4486\n",
            "Epoch 354/500\n",
            "24/24 [==============================] - 0s 8ms/step - loss: 1.1989 - accuracy: 0.4702 - val_loss: 1.2183 - val_accuracy: 0.4469\n",
            "Epoch 355/500\n",
            "24/24 [==============================] - 0s 8ms/step - loss: 1.1995 - accuracy: 0.4707 - val_loss: 1.2186 - val_accuracy: 0.4476\n",
            "Epoch 356/500\n",
            "24/24 [==============================] - 0s 6ms/step - loss: 1.1993 - accuracy: 0.4689 - val_loss: 1.2188 - val_accuracy: 0.4462\n",
            "Epoch 357/500\n",
            "24/24 [==============================] - 0s 7ms/step - loss: 1.1997 - accuracy: 0.4692 - val_loss: 1.2188 - val_accuracy: 0.4507\n",
            "Epoch 358/500\n",
            "24/24 [==============================] - 0s 7ms/step - loss: 1.1990 - accuracy: 0.4689 - val_loss: 1.2192 - val_accuracy: 0.4476\n",
            "Epoch 359/500\n",
            "24/24 [==============================] - 0s 7ms/step - loss: 1.1996 - accuracy: 0.4687 - val_loss: 1.2188 - val_accuracy: 0.4483\n",
            "Epoch 360/500\n",
            "24/24 [==============================] - 0s 7ms/step - loss: 1.1994 - accuracy: 0.4683 - val_loss: 1.2213 - val_accuracy: 0.4493\n",
            "Epoch 361/500\n",
            "24/24 [==============================] - 0s 8ms/step - loss: 1.2002 - accuracy: 0.4690 - val_loss: 1.2184 - val_accuracy: 0.4535\n",
            "Epoch 362/500\n",
            "24/24 [==============================] - 0s 5ms/step - loss: 1.1987 - accuracy: 0.4682 - val_loss: 1.2189 - val_accuracy: 0.4456\n",
            "Epoch 363/500\n",
            "24/24 [==============================] - 0s 6ms/step - loss: 1.1990 - accuracy: 0.4719 - val_loss: 1.2201 - val_accuracy: 0.4473\n",
            "Epoch 364/500\n",
            "24/24 [==============================] - 0s 6ms/step - loss: 1.1987 - accuracy: 0.4711 - val_loss: 1.2188 - val_accuracy: 0.4456\n",
            "Epoch 365/500\n",
            "24/24 [==============================] - 0s 7ms/step - loss: 1.1989 - accuracy: 0.4687 - val_loss: 1.2192 - val_accuracy: 0.4486\n",
            "Epoch 366/500\n",
            "24/24 [==============================] - 0s 5ms/step - loss: 1.1990 - accuracy: 0.4667 - val_loss: 1.2191 - val_accuracy: 0.4493\n",
            "Epoch 367/500\n",
            "24/24 [==============================] - 0s 6ms/step - loss: 1.1995 - accuracy: 0.4704 - val_loss: 1.2196 - val_accuracy: 0.4476\n",
            "Epoch 368/500\n",
            "24/24 [==============================] - 0s 8ms/step - loss: 1.1991 - accuracy: 0.4704 - val_loss: 1.2184 - val_accuracy: 0.4486\n",
            "Epoch 369/500\n",
            "24/24 [==============================] - 0s 6ms/step - loss: 1.1987 - accuracy: 0.4673 - val_loss: 1.2191 - val_accuracy: 0.4524\n",
            "Epoch 370/500\n",
            "24/24 [==============================] - 0s 8ms/step - loss: 1.1993 - accuracy: 0.4697 - val_loss: 1.2187 - val_accuracy: 0.4490\n",
            "Epoch 371/500\n",
            "24/24 [==============================] - 0s 6ms/step - loss: 1.1984 - accuracy: 0.4697 - val_loss: 1.2188 - val_accuracy: 0.4452\n",
            "Epoch 372/500\n",
            "24/24 [==============================] - 0s 7ms/step - loss: 1.1984 - accuracy: 0.4677 - val_loss: 1.2193 - val_accuracy: 0.4466\n",
            "Epoch 373/500\n",
            "24/24 [==============================] - 0s 7ms/step - loss: 1.1989 - accuracy: 0.4668 - val_loss: 1.2198 - val_accuracy: 0.4497\n",
            "Epoch 374/500\n",
            "24/24 [==============================] - 0s 6ms/step - loss: 1.2013 - accuracy: 0.4667 - val_loss: 1.2189 - val_accuracy: 0.4500\n",
            "Epoch 375/500\n",
            "24/24 [==============================] - 0s 8ms/step - loss: 1.1995 - accuracy: 0.4699 - val_loss: 1.2208 - val_accuracy: 0.4500\n",
            "Epoch 376/500\n",
            "24/24 [==============================] - 0s 8ms/step - loss: 1.1993 - accuracy: 0.4651 - val_loss: 1.2190 - val_accuracy: 0.4469\n",
            "Epoch 377/500\n",
            "24/24 [==============================] - 0s 8ms/step - loss: 1.1986 - accuracy: 0.4700 - val_loss: 1.2192 - val_accuracy: 0.4480\n",
            "Epoch 378/500\n",
            "24/24 [==============================] - 0s 6ms/step - loss: 1.1988 - accuracy: 0.4667 - val_loss: 1.2180 - val_accuracy: 0.4500\n",
            "Epoch 379/500\n",
            "24/24 [==============================] - 0s 4ms/step - loss: 1.1999 - accuracy: 0.4648 - val_loss: 1.2186 - val_accuracy: 0.4473\n",
            "Epoch 380/500\n",
            "24/24 [==============================] - 0s 5ms/step - loss: 1.1992 - accuracy: 0.4685 - val_loss: 1.2178 - val_accuracy: 0.4480\n",
            "Epoch 381/500\n",
            "24/24 [==============================] - 0s 5ms/step - loss: 1.1990 - accuracy: 0.4700 - val_loss: 1.2185 - val_accuracy: 0.4452\n",
            "Epoch 382/500\n",
            "24/24 [==============================] - 0s 4ms/step - loss: 1.1995 - accuracy: 0.4673 - val_loss: 1.2186 - val_accuracy: 0.4466\n",
            "Epoch 383/500\n",
            "24/24 [==============================] - 0s 4ms/step - loss: 1.1995 - accuracy: 0.4663 - val_loss: 1.2188 - val_accuracy: 0.4480\n",
            "Epoch 384/500\n",
            "24/24 [==============================] - 0s 4ms/step - loss: 1.1990 - accuracy: 0.4650 - val_loss: 1.2193 - val_accuracy: 0.4504\n",
            "Epoch 385/500\n",
            "24/24 [==============================] - 0s 4ms/step - loss: 1.1984 - accuracy: 0.4692 - val_loss: 1.2186 - val_accuracy: 0.4445\n",
            "Epoch 386/500\n",
            "24/24 [==============================] - 0s 4ms/step - loss: 1.1984 - accuracy: 0.4705 - val_loss: 1.2184 - val_accuracy: 0.4466\n",
            "Epoch 387/500\n",
            "24/24 [==============================] - 0s 5ms/step - loss: 1.1984 - accuracy: 0.4700 - val_loss: 1.2182 - val_accuracy: 0.4486\n",
            "Epoch 388/500\n",
            "24/24 [==============================] - 0s 4ms/step - loss: 1.1990 - accuracy: 0.4658 - val_loss: 1.2190 - val_accuracy: 0.4483\n",
            "Epoch 389/500\n",
            "24/24 [==============================] - 0s 4ms/step - loss: 1.1997 - accuracy: 0.4690 - val_loss: 1.2185 - val_accuracy: 0.4480\n",
            "Epoch 390/500\n",
            "24/24 [==============================] - 0s 4ms/step - loss: 1.1992 - accuracy: 0.4663 - val_loss: 1.2178 - val_accuracy: 0.4490\n",
            "Epoch 391/500\n",
            "24/24 [==============================] - 0s 5ms/step - loss: 1.1986 - accuracy: 0.4661 - val_loss: 1.2191 - val_accuracy: 0.4483\n",
            "Epoch 392/500\n",
            "24/24 [==============================] - 0s 4ms/step - loss: 1.1991 - accuracy: 0.4678 - val_loss: 1.2174 - val_accuracy: 0.4486\n",
            "Epoch 393/500\n",
            "24/24 [==============================] - 0s 4ms/step - loss: 1.1985 - accuracy: 0.4660 - val_loss: 1.2186 - val_accuracy: 0.4504\n",
            "Epoch 394/500\n",
            "24/24 [==============================] - 0s 6ms/step - loss: 1.1987 - accuracy: 0.4726 - val_loss: 1.2182 - val_accuracy: 0.4510\n",
            "Epoch 395/500\n",
            "24/24 [==============================] - 0s 4ms/step - loss: 1.1987 - accuracy: 0.4672 - val_loss: 1.2180 - val_accuracy: 0.4459\n",
            "Epoch 396/500\n",
            "24/24 [==============================] - 0s 4ms/step - loss: 1.1986 - accuracy: 0.4655 - val_loss: 1.2204 - val_accuracy: 0.4497\n",
            "Epoch 397/500\n",
            "24/24 [==============================] - 0s 4ms/step - loss: 1.1991 - accuracy: 0.4685 - val_loss: 1.2181 - val_accuracy: 0.4486\n",
            "Epoch 398/500\n",
            "24/24 [==============================] - 0s 4ms/step - loss: 1.1984 - accuracy: 0.4690 - val_loss: 1.2174 - val_accuracy: 0.4476\n",
            "Epoch 399/500\n",
            "24/24 [==============================] - 0s 4ms/step - loss: 1.1985 - accuracy: 0.4668 - val_loss: 1.2187 - val_accuracy: 0.4480\n",
            "Epoch 400/500\n",
            "24/24 [==============================] - 0s 5ms/step - loss: 1.1983 - accuracy: 0.4675 - val_loss: 1.2176 - val_accuracy: 0.4490\n",
            "Epoch 401/500\n",
            "24/24 [==============================] - 0s 4ms/step - loss: 1.1992 - accuracy: 0.4680 - val_loss: 1.2190 - val_accuracy: 0.4500\n",
            "Epoch 402/500\n",
            "24/24 [==============================] - 0s 5ms/step - loss: 1.1983 - accuracy: 0.4711 - val_loss: 1.2189 - val_accuracy: 0.4486\n",
            "Epoch 403/500\n",
            "24/24 [==============================] - 0s 5ms/step - loss: 1.1985 - accuracy: 0.4631 - val_loss: 1.2183 - val_accuracy: 0.4476\n",
            "Epoch 404/500\n",
            "24/24 [==============================] - 0s 4ms/step - loss: 1.1989 - accuracy: 0.4697 - val_loss: 1.2179 - val_accuracy: 0.4486\n",
            "Epoch 405/500\n",
            "24/24 [==============================] - 0s 4ms/step - loss: 1.1986 - accuracy: 0.4661 - val_loss: 1.2173 - val_accuracy: 0.4469\n",
            "Epoch 406/500\n",
            "24/24 [==============================] - 0s 6ms/step - loss: 1.1986 - accuracy: 0.4660 - val_loss: 1.2198 - val_accuracy: 0.4528\n",
            "Epoch 407/500\n",
            "24/24 [==============================] - 0s 4ms/step - loss: 1.1986 - accuracy: 0.4648 - val_loss: 1.2183 - val_accuracy: 0.4445\n",
            "Epoch 408/500\n",
            "24/24 [==============================] - 0s 4ms/step - loss: 1.1984 - accuracy: 0.4685 - val_loss: 1.2185 - val_accuracy: 0.4469\n",
            "Epoch 409/500\n",
            "24/24 [==============================] - 0s 5ms/step - loss: 1.1981 - accuracy: 0.4683 - val_loss: 1.2182 - val_accuracy: 0.4483\n",
            "Epoch 410/500\n",
            "24/24 [==============================] - 0s 6ms/step - loss: 1.1986 - accuracy: 0.4646 - val_loss: 1.2189 - val_accuracy: 0.4493\n",
            "Epoch 411/500\n",
            "24/24 [==============================] - 0s 4ms/step - loss: 1.1988 - accuracy: 0.4685 - val_loss: 1.2178 - val_accuracy: 0.4483\n",
            "Epoch 412/500\n",
            "24/24 [==============================] - 0s 5ms/step - loss: 1.1980 - accuracy: 0.4687 - val_loss: 1.2186 - val_accuracy: 0.4531\n",
            "Epoch 413/500\n",
            "24/24 [==============================] - 0s 5ms/step - loss: 1.1983 - accuracy: 0.4672 - val_loss: 1.2177 - val_accuracy: 0.4486\n",
            "Epoch 414/500\n",
            "24/24 [==============================] - 0s 5ms/step - loss: 1.1981 - accuracy: 0.4670 - val_loss: 1.2173 - val_accuracy: 0.4462\n",
            "Epoch 415/500\n",
            "24/24 [==============================] - 0s 4ms/step - loss: 1.1975 - accuracy: 0.4687 - val_loss: 1.2178 - val_accuracy: 0.4480\n",
            "Epoch 416/500\n",
            "24/24 [==============================] - 0s 5ms/step - loss: 1.1985 - accuracy: 0.4660 - val_loss: 1.2176 - val_accuracy: 0.4493\n",
            "Epoch 417/500\n",
            "24/24 [==============================] - 0s 5ms/step - loss: 1.1978 - accuracy: 0.4655 - val_loss: 1.2181 - val_accuracy: 0.4493\n",
            "Epoch 418/500\n",
            "24/24 [==============================] - 0s 4ms/step - loss: 1.1974 - accuracy: 0.4687 - val_loss: 1.2179 - val_accuracy: 0.4459\n",
            "Epoch 419/500\n",
            "24/24 [==============================] - 0s 4ms/step - loss: 1.1983 - accuracy: 0.4673 - val_loss: 1.2176 - val_accuracy: 0.4490\n",
            "Epoch 420/500\n",
            "24/24 [==============================] - 0s 4ms/step - loss: 1.1986 - accuracy: 0.4694 - val_loss: 1.2169 - val_accuracy: 0.4469\n",
            "Epoch 421/500\n",
            "24/24 [==============================] - 0s 5ms/step - loss: 1.1991 - accuracy: 0.4700 - val_loss: 1.2183 - val_accuracy: 0.4535\n",
            "Epoch 422/500\n",
            "24/24 [==============================] - 0s 4ms/step - loss: 1.1980 - accuracy: 0.4700 - val_loss: 1.2183 - val_accuracy: 0.4486\n",
            "Epoch 423/500\n",
            "24/24 [==============================] - 0s 4ms/step - loss: 1.1979 - accuracy: 0.4663 - val_loss: 1.2170 - val_accuracy: 0.4486\n",
            "Epoch 424/500\n",
            "24/24 [==============================] - 0s 4ms/step - loss: 1.1981 - accuracy: 0.4675 - val_loss: 1.2177 - val_accuracy: 0.4476\n",
            "Epoch 425/500\n",
            "24/24 [==============================] - 0s 5ms/step - loss: 1.1979 - accuracy: 0.4665 - val_loss: 1.2180 - val_accuracy: 0.4524\n",
            "Epoch 426/500\n",
            "24/24 [==============================] - 0s 6ms/step - loss: 1.1985 - accuracy: 0.4677 - val_loss: 1.2178 - val_accuracy: 0.4521\n",
            "Epoch 427/500\n",
            "24/24 [==============================] - 0s 5ms/step - loss: 1.1979 - accuracy: 0.4680 - val_loss: 1.2176 - val_accuracy: 0.4490\n",
            "Epoch 428/500\n",
            "24/24 [==============================] - 0s 5ms/step - loss: 1.1981 - accuracy: 0.4680 - val_loss: 1.2167 - val_accuracy: 0.4490\n",
            "Epoch 429/500\n",
            "24/24 [==============================] - 0s 6ms/step - loss: 1.1989 - accuracy: 0.4682 - val_loss: 1.2194 - val_accuracy: 0.4510\n",
            "Epoch 430/500\n",
            "24/24 [==============================] - 0s 5ms/step - loss: 1.1975 - accuracy: 0.4678 - val_loss: 1.2177 - val_accuracy: 0.4493\n",
            "Epoch 431/500\n",
            "24/24 [==============================] - 0s 4ms/step - loss: 1.1989 - accuracy: 0.4665 - val_loss: 1.2171 - val_accuracy: 0.4480\n",
            "Epoch 432/500\n",
            "24/24 [==============================] - 0s 5ms/step - loss: 1.1979 - accuracy: 0.4689 - val_loss: 1.2180 - val_accuracy: 0.4483\n",
            "Epoch 433/500\n",
            "24/24 [==============================] - 0s 4ms/step - loss: 1.1985 - accuracy: 0.4667 - val_loss: 1.2169 - val_accuracy: 0.4473\n",
            "Epoch 434/500\n",
            "24/24 [==============================] - 0s 5ms/step - loss: 1.1974 - accuracy: 0.4680 - val_loss: 1.2175 - val_accuracy: 0.4466\n",
            "Epoch 435/500\n",
            "24/24 [==============================] - 0s 5ms/step - loss: 1.1976 - accuracy: 0.4677 - val_loss: 1.2166 - val_accuracy: 0.4483\n",
            "Epoch 436/500\n",
            "24/24 [==============================] - 0s 5ms/step - loss: 1.1976 - accuracy: 0.4682 - val_loss: 1.2181 - val_accuracy: 0.4476\n",
            "Epoch 437/500\n",
            "24/24 [==============================] - 0s 4ms/step - loss: 1.1987 - accuracy: 0.4689 - val_loss: 1.2172 - val_accuracy: 0.4500\n",
            "Epoch 438/500\n",
            "24/24 [==============================] - 0s 5ms/step - loss: 1.1984 - accuracy: 0.4702 - val_loss: 1.2176 - val_accuracy: 0.4476\n",
            "Epoch 439/500\n",
            "24/24 [==============================] - 0s 5ms/step - loss: 1.1972 - accuracy: 0.4689 - val_loss: 1.2172 - val_accuracy: 0.4466\n",
            "Epoch 440/500\n",
            "24/24 [==============================] - 0s 5ms/step - loss: 1.1981 - accuracy: 0.4685 - val_loss: 1.2202 - val_accuracy: 0.4486\n",
            "Epoch 441/500\n",
            "24/24 [==============================] - 0s 5ms/step - loss: 1.1991 - accuracy: 0.4638 - val_loss: 1.2171 - val_accuracy: 0.4483\n",
            "Epoch 442/500\n",
            "24/24 [==============================] - 0s 4ms/step - loss: 1.1975 - accuracy: 0.4683 - val_loss: 1.2168 - val_accuracy: 0.4490\n",
            "Epoch 443/500\n",
            "24/24 [==============================] - 0s 5ms/step - loss: 1.1968 - accuracy: 0.4678 - val_loss: 1.2169 - val_accuracy: 0.4490\n",
            "Epoch 444/500\n",
            "24/24 [==============================] - 0s 5ms/step - loss: 1.1984 - accuracy: 0.4670 - val_loss: 1.2179 - val_accuracy: 0.4521\n",
            "Epoch 445/500\n",
            "24/24 [==============================] - 0s 4ms/step - loss: 1.1971 - accuracy: 0.4656 - val_loss: 1.2175 - val_accuracy: 0.4500\n",
            "Epoch 446/500\n",
            "24/24 [==============================] - 0s 4ms/step - loss: 1.1971 - accuracy: 0.4690 - val_loss: 1.2170 - val_accuracy: 0.4517\n",
            "Epoch 447/500\n",
            "24/24 [==============================] - 0s 4ms/step - loss: 1.1969 - accuracy: 0.4699 - val_loss: 1.2180 - val_accuracy: 0.4490\n",
            "Epoch 448/500\n",
            "24/24 [==============================] - 0s 4ms/step - loss: 1.1977 - accuracy: 0.4689 - val_loss: 1.2184 - val_accuracy: 0.4493\n",
            "Epoch 449/500\n",
            "24/24 [==============================] - 0s 5ms/step - loss: 1.1982 - accuracy: 0.4685 - val_loss: 1.2173 - val_accuracy: 0.4500\n",
            "Epoch 450/500\n",
            "24/24 [==============================] - 0s 5ms/step - loss: 1.1968 - accuracy: 0.4677 - val_loss: 1.2169 - val_accuracy: 0.4514\n",
            "Epoch 451/500\n",
            "24/24 [==============================] - 0s 5ms/step - loss: 1.1968 - accuracy: 0.4690 - val_loss: 1.2175 - val_accuracy: 0.4521\n",
            "Epoch 452/500\n",
            "24/24 [==============================] - 0s 5ms/step - loss: 1.1970 - accuracy: 0.4709 - val_loss: 1.2173 - val_accuracy: 0.4524\n",
            "Epoch 453/500\n",
            "24/24 [==============================] - 0s 5ms/step - loss: 1.1976 - accuracy: 0.4690 - val_loss: 1.2189 - val_accuracy: 0.4480\n",
            "Epoch 454/500\n",
            "24/24 [==============================] - 0s 5ms/step - loss: 1.1974 - accuracy: 0.4650 - val_loss: 1.2169 - val_accuracy: 0.4483\n",
            "Epoch 455/500\n",
            "24/24 [==============================] - 0s 5ms/step - loss: 1.1974 - accuracy: 0.4656 - val_loss: 1.2172 - val_accuracy: 0.4521\n",
            "Epoch 456/500\n",
            "24/24 [==============================] - 0s 5ms/step - loss: 1.1971 - accuracy: 0.4685 - val_loss: 1.2175 - val_accuracy: 0.4493\n",
            "Epoch 457/500\n",
            "24/24 [==============================] - 0s 5ms/step - loss: 1.1974 - accuracy: 0.4712 - val_loss: 1.2170 - val_accuracy: 0.4473\n",
            "Epoch 458/500\n",
            "24/24 [==============================] - 0s 5ms/step - loss: 1.1970 - accuracy: 0.4683 - val_loss: 1.2166 - val_accuracy: 0.4483\n",
            "Epoch 459/500\n",
            "24/24 [==============================] - 0s 5ms/step - loss: 1.1971 - accuracy: 0.4690 - val_loss: 1.2172 - val_accuracy: 0.4493\n",
            "Epoch 460/500\n",
            "24/24 [==============================] - 0s 5ms/step - loss: 1.1976 - accuracy: 0.4680 - val_loss: 1.2187 - val_accuracy: 0.4514\n",
            "Epoch 461/500\n",
            "24/24 [==============================] - 0s 5ms/step - loss: 1.1969 - accuracy: 0.4700 - val_loss: 1.2167 - val_accuracy: 0.4486\n",
            "Epoch 462/500\n",
            "24/24 [==============================] - 0s 4ms/step - loss: 1.1974 - accuracy: 0.4680 - val_loss: 1.2168 - val_accuracy: 0.4456\n",
            "Epoch 463/500\n",
            "24/24 [==============================] - 0s 8ms/step - loss: 1.1969 - accuracy: 0.4702 - val_loss: 1.2171 - val_accuracy: 0.4490\n",
            "Epoch 464/500\n",
            "24/24 [==============================] - 0s 8ms/step - loss: 1.1968 - accuracy: 0.4672 - val_loss: 1.2179 - val_accuracy: 0.4476\n",
            "Epoch 465/500\n",
            "24/24 [==============================] - 0s 8ms/step - loss: 1.1970 - accuracy: 0.4694 - val_loss: 1.2172 - val_accuracy: 0.4507\n",
            "Epoch 466/500\n",
            "24/24 [==============================] - 0s 8ms/step - loss: 1.1967 - accuracy: 0.4646 - val_loss: 1.2174 - val_accuracy: 0.4490\n",
            "Epoch 467/500\n",
            "24/24 [==============================] - 0s 7ms/step - loss: 1.1976 - accuracy: 0.4670 - val_loss: 1.2165 - val_accuracy: 0.4514\n",
            "Epoch 468/500\n",
            "24/24 [==============================] - 0s 7ms/step - loss: 1.1967 - accuracy: 0.4682 - val_loss: 1.2167 - val_accuracy: 0.4510\n",
            "Epoch 469/500\n",
            "24/24 [==============================] - 0s 8ms/step - loss: 1.1964 - accuracy: 0.4678 - val_loss: 1.2164 - val_accuracy: 0.4521\n",
            "Epoch 470/500\n",
            "24/24 [==============================] - 0s 7ms/step - loss: 1.1970 - accuracy: 0.4680 - val_loss: 1.2174 - val_accuracy: 0.4483\n",
            "Epoch 471/500\n",
            "24/24 [==============================] - 0s 8ms/step - loss: 1.1969 - accuracy: 0.4661 - val_loss: 1.2168 - val_accuracy: 0.4452\n",
            "Epoch 472/500\n",
            "24/24 [==============================] - 0s 8ms/step - loss: 1.1964 - accuracy: 0.4699 - val_loss: 1.2182 - val_accuracy: 0.4490\n",
            "Epoch 473/500\n",
            "24/24 [==============================] - 0s 8ms/step - loss: 1.1964 - accuracy: 0.4683 - val_loss: 1.2166 - val_accuracy: 0.4490\n",
            "Epoch 474/500\n",
            "24/24 [==============================] - 0s 7ms/step - loss: 1.1973 - accuracy: 0.4656 - val_loss: 1.2166 - val_accuracy: 0.4486\n",
            "Epoch 475/500\n",
            "24/24 [==============================] - 0s 6ms/step - loss: 1.1974 - accuracy: 0.4646 - val_loss: 1.2170 - val_accuracy: 0.4490\n",
            "Epoch 476/500\n",
            "24/24 [==============================] - 0s 7ms/step - loss: 1.1986 - accuracy: 0.4653 - val_loss: 1.2176 - val_accuracy: 0.4469\n",
            "Epoch 477/500\n",
            "24/24 [==============================] - 0s 6ms/step - loss: 1.1961 - accuracy: 0.4673 - val_loss: 1.2175 - val_accuracy: 0.4500\n",
            "Epoch 478/500\n",
            "24/24 [==============================] - 0s 7ms/step - loss: 1.1966 - accuracy: 0.4672 - val_loss: 1.2170 - val_accuracy: 0.4480\n",
            "Epoch 479/500\n",
            "24/24 [==============================] - 0s 6ms/step - loss: 1.1968 - accuracy: 0.4668 - val_loss: 1.2194 - val_accuracy: 0.4480\n",
            "Epoch 480/500\n",
            "24/24 [==============================] - 0s 8ms/step - loss: 1.1992 - accuracy: 0.4663 - val_loss: 1.2179 - val_accuracy: 0.4473\n",
            "Epoch 481/500\n",
            "24/24 [==============================] - 0s 7ms/step - loss: 1.1968 - accuracy: 0.4697 - val_loss: 1.2170 - val_accuracy: 0.4514\n",
            "Epoch 482/500\n",
            "24/24 [==============================] - 0s 8ms/step - loss: 1.1961 - accuracy: 0.4683 - val_loss: 1.2176 - val_accuracy: 0.4466\n",
            "Epoch 483/500\n",
            "24/24 [==============================] - 0s 9ms/step - loss: 1.1968 - accuracy: 0.4680 - val_loss: 1.2163 - val_accuracy: 0.4504\n",
            "Epoch 484/500\n",
            "24/24 [==============================] - 0s 7ms/step - loss: 1.1966 - accuracy: 0.4663 - val_loss: 1.2173 - val_accuracy: 0.4483\n",
            "Epoch 485/500\n",
            "24/24 [==============================] - 0s 9ms/step - loss: 1.1960 - accuracy: 0.4678 - val_loss: 1.2170 - val_accuracy: 0.4480\n",
            "Epoch 486/500\n",
            "24/24 [==============================] - 0s 8ms/step - loss: 1.1962 - accuracy: 0.4667 - val_loss: 1.2170 - val_accuracy: 0.4521\n",
            "Epoch 487/500\n",
            "24/24 [==============================] - 0s 9ms/step - loss: 1.1961 - accuracy: 0.4680 - val_loss: 1.2164 - val_accuracy: 0.4493\n",
            "Epoch 488/500\n",
            "24/24 [==============================] - 0s 6ms/step - loss: 1.1961 - accuracy: 0.4672 - val_loss: 1.2160 - val_accuracy: 0.4490\n",
            "Epoch 489/500\n",
            "24/24 [==============================] - 0s 7ms/step - loss: 1.1960 - accuracy: 0.4670 - val_loss: 1.2162 - val_accuracy: 0.4476\n",
            "Epoch 490/500\n",
            "24/24 [==============================] - 0s 6ms/step - loss: 1.1983 - accuracy: 0.4658 - val_loss: 1.2163 - val_accuracy: 0.4469\n",
            "Epoch 491/500\n",
            "24/24 [==============================] - 0s 4ms/step - loss: 1.1965 - accuracy: 0.4683 - val_loss: 1.2164 - val_accuracy: 0.4486\n",
            "Epoch 492/500\n",
            "24/24 [==============================] - 0s 4ms/step - loss: 1.1967 - accuracy: 0.4646 - val_loss: 1.2171 - val_accuracy: 0.4480\n",
            "Epoch 493/500\n",
            "24/24 [==============================] - 0s 5ms/step - loss: 1.1961 - accuracy: 0.4687 - val_loss: 1.2160 - val_accuracy: 0.4507\n",
            "Epoch 494/500\n",
            "24/24 [==============================] - 0s 4ms/step - loss: 1.1962 - accuracy: 0.4648 - val_loss: 1.2165 - val_accuracy: 0.4476\n",
            "Epoch 495/500\n",
            "24/24 [==============================] - 0s 4ms/step - loss: 1.1963 - accuracy: 0.4689 - val_loss: 1.2162 - val_accuracy: 0.4524\n",
            "Epoch 496/500\n",
            "24/24 [==============================] - 0s 5ms/step - loss: 1.1972 - accuracy: 0.4689 - val_loss: 1.2168 - val_accuracy: 0.4490\n",
            "Epoch 497/500\n",
            "24/24 [==============================] - 0s 5ms/step - loss: 1.1960 - accuracy: 0.4678 - val_loss: 1.2156 - val_accuracy: 0.4476\n",
            "Epoch 498/500\n",
            "24/24 [==============================] - 0s 5ms/step - loss: 1.1952 - accuracy: 0.4685 - val_loss: 1.2162 - val_accuracy: 0.4521\n",
            "Epoch 499/500\n",
            "24/24 [==============================] - 0s 5ms/step - loss: 1.1969 - accuracy: 0.4661 - val_loss: 1.2164 - val_accuracy: 0.4507\n",
            "Epoch 500/500\n",
            "24/24 [==============================] - 0s 4ms/step - loss: 1.1961 - accuracy: 0.4690 - val_loss: 1.2157 - val_accuracy: 0.4473\n"
          ]
        },
        {
          "output_type": "execute_result",
          "data": {
            "text/plain": [
              "<keras.callbacks.History at 0x7fa187ee3370>"
            ]
          },
          "metadata": {},
          "execution_count": 163
        }
      ]
    },
    {
      "cell_type": "code",
      "source": [
        "metrics = pd.DataFrame(ai_brain.history.history)"
      ],
      "metadata": {
        "id": "G3PesLPSWuaw"
      },
      "execution_count": 164,
      "outputs": []
    },
    {
      "cell_type": "code",
      "source": [
        "metrics.head()"
      ],
      "metadata": {
        "colab": {
          "base_uri": "https://localhost:8080/",
          "height": 206
        },
        "id": "SJqgyBg0W_FY",
        "outputId": "59ef2c75-36da-4485-9f2a-ef7fc27fd35f"
      },
      "execution_count": 165,
      "outputs": [
        {
          "output_type": "execute_result",
          "data": {
            "text/plain": [
              "       loss  accuracy  val_loss  val_accuracy\n",
              "0  1.576585  0.324814  1.504023      0.330471\n",
              "1  1.431546  0.340724  1.405389      0.331845\n",
              "2  1.377872  0.343263  1.378404      0.345929\n",
              "3  1.365931  0.346649  1.370310      0.346616\n",
              "4  1.359651  0.351557  1.365009      0.352113"
            ],
            "text/html": [
              "\n",
              "  <div id=\"df-b14e7523-2c2e-4a57-84c9-8a669a7c1b47\" class=\"colab-df-container\">\n",
              "    <div>\n",
              "<style scoped>\n",
              "    .dataframe tbody tr th:only-of-type {\n",
              "        vertical-align: middle;\n",
              "    }\n",
              "\n",
              "    .dataframe tbody tr th {\n",
              "        vertical-align: top;\n",
              "    }\n",
              "\n",
              "    .dataframe thead th {\n",
              "        text-align: right;\n",
              "    }\n",
              "</style>\n",
              "<table border=\"1\" class=\"dataframe\">\n",
              "  <thead>\n",
              "    <tr style=\"text-align: right;\">\n",
              "      <th></th>\n",
              "      <th>loss</th>\n",
              "      <th>accuracy</th>\n",
              "      <th>val_loss</th>\n",
              "      <th>val_accuracy</th>\n",
              "    </tr>\n",
              "  </thead>\n",
              "  <tbody>\n",
              "    <tr>\n",
              "      <th>0</th>\n",
              "      <td>1.576585</td>\n",
              "      <td>0.324814</td>\n",
              "      <td>1.504023</td>\n",
              "      <td>0.330471</td>\n",
              "    </tr>\n",
              "    <tr>\n",
              "      <th>1</th>\n",
              "      <td>1.431546</td>\n",
              "      <td>0.340724</td>\n",
              "      <td>1.405389</td>\n",
              "      <td>0.331845</td>\n",
              "    </tr>\n",
              "    <tr>\n",
              "      <th>2</th>\n",
              "      <td>1.377872</td>\n",
              "      <td>0.343263</td>\n",
              "      <td>1.378404</td>\n",
              "      <td>0.345929</td>\n",
              "    </tr>\n",
              "    <tr>\n",
              "      <th>3</th>\n",
              "      <td>1.365931</td>\n",
              "      <td>0.346649</td>\n",
              "      <td>1.370310</td>\n",
              "      <td>0.346616</td>\n",
              "    </tr>\n",
              "    <tr>\n",
              "      <th>4</th>\n",
              "      <td>1.359651</td>\n",
              "      <td>0.351557</td>\n",
              "      <td>1.365009</td>\n",
              "      <td>0.352113</td>\n",
              "    </tr>\n",
              "  </tbody>\n",
              "</table>\n",
              "</div>\n",
              "    <div class=\"colab-df-buttons\">\n",
              "\n",
              "  <div class=\"colab-df-container\">\n",
              "    <button class=\"colab-df-convert\" onclick=\"convertToInteractive('df-b14e7523-2c2e-4a57-84c9-8a669a7c1b47')\"\n",
              "            title=\"Convert this dataframe to an interactive table.\"\n",
              "            style=\"display:none;\">\n",
              "\n",
              "  <svg xmlns=\"http://www.w3.org/2000/svg\" height=\"24px\" viewBox=\"0 -960 960 960\">\n",
              "    <path d=\"M120-120v-720h720v720H120Zm60-500h600v-160H180v160Zm220 220h160v-160H400v160Zm0 220h160v-160H400v160ZM180-400h160v-160H180v160Zm440 0h160v-160H620v160ZM180-180h160v-160H180v160Zm440 0h160v-160H620v160Z\"/>\n",
              "  </svg>\n",
              "    </button>\n",
              "\n",
              "  <style>\n",
              "    .colab-df-container {\n",
              "      display:flex;\n",
              "      gap: 12px;\n",
              "    }\n",
              "\n",
              "    .colab-df-convert {\n",
              "      background-color: #E8F0FE;\n",
              "      border: none;\n",
              "      border-radius: 50%;\n",
              "      cursor: pointer;\n",
              "      display: none;\n",
              "      fill: #1967D2;\n",
              "      height: 32px;\n",
              "      padding: 0 0 0 0;\n",
              "      width: 32px;\n",
              "    }\n",
              "\n",
              "    .colab-df-convert:hover {\n",
              "      background-color: #E2EBFA;\n",
              "      box-shadow: 0px 1px 2px rgba(60, 64, 67, 0.3), 0px 1px 3px 1px rgba(60, 64, 67, 0.15);\n",
              "      fill: #174EA6;\n",
              "    }\n",
              "\n",
              "    .colab-df-buttons div {\n",
              "      margin-bottom: 4px;\n",
              "    }\n",
              "\n",
              "    [theme=dark] .colab-df-convert {\n",
              "      background-color: #3B4455;\n",
              "      fill: #D2E3FC;\n",
              "    }\n",
              "\n",
              "    [theme=dark] .colab-df-convert:hover {\n",
              "      background-color: #434B5C;\n",
              "      box-shadow: 0px 1px 3px 1px rgba(0, 0, 0, 0.15);\n",
              "      filter: drop-shadow(0px 1px 2px rgba(0, 0, 0, 0.3));\n",
              "      fill: #FFFFFF;\n",
              "    }\n",
              "  </style>\n",
              "\n",
              "    <script>\n",
              "      const buttonEl =\n",
              "        document.querySelector('#df-b14e7523-2c2e-4a57-84c9-8a669a7c1b47 button.colab-df-convert');\n",
              "      buttonEl.style.display =\n",
              "        google.colab.kernel.accessAllowed ? 'block' : 'none';\n",
              "\n",
              "      async function convertToInteractive(key) {\n",
              "        const element = document.querySelector('#df-b14e7523-2c2e-4a57-84c9-8a669a7c1b47');\n",
              "        const dataTable =\n",
              "          await google.colab.kernel.invokeFunction('convertToInteractive',\n",
              "                                                    [key], {});\n",
              "        if (!dataTable) return;\n",
              "\n",
              "        const docLinkHtml = 'Like what you see? Visit the ' +\n",
              "          '<a target=\"_blank\" href=https://colab.research.google.com/notebooks/data_table.ipynb>data table notebook</a>'\n",
              "          + ' to learn more about interactive tables.';\n",
              "        element.innerHTML = '';\n",
              "        dataTable['output_type'] = 'display_data';\n",
              "        await google.colab.output.renderOutput(dataTable, element);\n",
              "        const docLink = document.createElement('div');\n",
              "        docLink.innerHTML = docLinkHtml;\n",
              "        element.appendChild(docLink);\n",
              "      }\n",
              "    </script>\n",
              "  </div>\n",
              "\n",
              "\n",
              "<div id=\"df-21d68911-2fe5-4def-b652-5b77ec9e12c0\">\n",
              "  <button class=\"colab-df-quickchart\" onclick=\"quickchart('df-21d68911-2fe5-4def-b652-5b77ec9e12c0')\"\n",
              "            title=\"Suggest charts.\"\n",
              "            style=\"display:none;\">\n",
              "\n",
              "<svg xmlns=\"http://www.w3.org/2000/svg\" height=\"24px\"viewBox=\"0 0 24 24\"\n",
              "     width=\"24px\">\n",
              "    <g>\n",
              "        <path d=\"M19 3H5c-1.1 0-2 .9-2 2v14c0 1.1.9 2 2 2h14c1.1 0 2-.9 2-2V5c0-1.1-.9-2-2-2zM9 17H7v-7h2v7zm4 0h-2V7h2v10zm4 0h-2v-4h2v4z\"/>\n",
              "    </g>\n",
              "</svg>\n",
              "  </button>\n",
              "\n",
              "<style>\n",
              "  .colab-df-quickchart {\n",
              "    background-color: #E8F0FE;\n",
              "    border: none;\n",
              "    border-radius: 50%;\n",
              "    cursor: pointer;\n",
              "    display: none;\n",
              "    fill: #1967D2;\n",
              "    height: 32px;\n",
              "    padding: 0 0 0 0;\n",
              "    width: 32px;\n",
              "  }\n",
              "\n",
              "  .colab-df-quickchart:hover {\n",
              "    background-color: #E2EBFA;\n",
              "    box-shadow: 0px 1px 2px rgba(60, 64, 67, 0.3), 0px 1px 3px 1px rgba(60, 64, 67, 0.15);\n",
              "    fill: #174EA6;\n",
              "  }\n",
              "\n",
              "  [theme=dark] .colab-df-quickchart {\n",
              "    background-color: #3B4455;\n",
              "    fill: #D2E3FC;\n",
              "  }\n",
              "\n",
              "  [theme=dark] .colab-df-quickchart:hover {\n",
              "    background-color: #434B5C;\n",
              "    box-shadow: 0px 1px 3px 1px rgba(0, 0, 0, 0.15);\n",
              "    filter: drop-shadow(0px 1px 2px rgba(0, 0, 0, 0.3));\n",
              "    fill: #FFFFFF;\n",
              "  }\n",
              "</style>\n",
              "\n",
              "  <script>\n",
              "    async function quickchart(key) {\n",
              "      const charts = await google.colab.kernel.invokeFunction(\n",
              "          'suggestCharts', [key], {});\n",
              "    }\n",
              "    (() => {\n",
              "      let quickchartButtonEl =\n",
              "        document.querySelector('#df-21d68911-2fe5-4def-b652-5b77ec9e12c0 button');\n",
              "      quickchartButtonEl.style.display =\n",
              "        google.colab.kernel.accessAllowed ? 'block' : 'none';\n",
              "    })();\n",
              "  </script>\n",
              "</div>\n",
              "    </div>\n",
              "  </div>\n"
            ]
          },
          "metadata": {},
          "execution_count": 165
        }
      ]
    },
    {
      "cell_type": "code",
      "source": [
        "early_stop = EarlyStopping(monitor='val_loss', patience=2)"
      ],
      "metadata": {
        "id": "dA_EaivcXBYG"
      },
      "execution_count": 166,
      "outputs": []
    },
    {
      "cell_type": "code",
      "source": [
        "metrics[['accuracy','val_accuracy']].plot()"
      ],
      "metadata": {
        "colab": {
          "base_uri": "https://localhost:8080/",
          "height": 447
        },
        "id": "U2e8dVisXEU8",
        "outputId": "6e97ab1d-ded8-4f8d-aff8-43b6d956e44d"
      },
      "execution_count": 167,
      "outputs": [
        {
          "output_type": "execute_result",
          "data": {
            "text/plain": [
              "<Axes: >"
            ]
          },
          "metadata": {},
          "execution_count": 167
        },
        {
          "output_type": "display_data",
          "data": {
            "text/plain": [
              "<Figure size 640x480 with 1 Axes>"
            ],
            "image/png": "[encoded data removed]"
          },
          "metadata": {}
        }
      ]
    },
    {
      "cell_type": "code",
      "source": [
        "metrics[['loss','val_loss']].plot()"
      ],
      "metadata": {
        "colab": {
          "base_uri": "https://localhost:8080/",
          "height": 447
        },
        "id": "PJeShlHEXIHR",
        "outputId": "6f3ccc9b-3d39-49ef-ae38-c36419ee08d6"
      },
      "execution_count": 168,
      "outputs": [
        {
          "output_type": "execute_result",
          "data": {
            "text/plain": [
              "<Axes: >"
            ]
          },
          "metadata": {},
          "execution_count": 168
        },
        {
          "output_type": "display_data",
          "data": {
            "text/plain": [
              "<Figure size 640x480 with 1 Axes>"
            ],
            "image/png": "[encoded data removed]"
          },
          "metadata": {}
        }
      ]
    },
    {
      "cell_type": "code",
      "source": [
        "# Sequential predict_classes function is deprecated\n",
        "# predictions = ai_brain.predict_classes(X_test)\n",
        "x_test_predictions = np.argmax(ai_brain.predict(X_test_scaled), axis=1)"
      ],
      "metadata": {
        "colab": {
          "base_uri": "https://localhost:8080/"
        },
        "id": "otftCjfyXLJc",
        "outputId": "63714fcc-d525-4d7e-a3ce-25548f9d7c39"
      },
      "execution_count": 169,
      "outputs": [
        {
          "output_type": "stream",
          "name": "stdout",
          "text": [
            "91/91 [==============================] - 0s 1ms/step\n"
          ]
        }
      ]
    },
    {
      "cell_type": "code",
      "source": [
        "x_test_predictions.shape"
      ],
      "metadata": {
        "colab": {
          "base_uri": "https://localhost:8080/"
        },
        "id": "Ikby33rbXVlU",
        "outputId": "2533d50e-0451-4e22-90db-7e98e0398f9a"
      },
      "execution_count": 170,
      "outputs": [
        {
          "output_type": "execute_result",
          "data": {
            "text/plain": [
              "(2911,)"
            ]
          },
          "metadata": {},
          "execution_count": 170
        }
      ]
    },
    {
      "cell_type": "code",
      "source": [
        "y_test_truevalue = np.argmax(y_test,axis=1)"
      ],
      "metadata": {
        "id": "pL6VyjlLXZfC"
      },
      "execution_count": 171,
      "outputs": []
    },
    {
      "cell_type": "code",
      "source": [
        "y_test_truevalue.shape"
      ],
      "metadata": {
        "colab": {
          "base_uri": "https://localhost:8080/"
        },
        "id": "W7v-CIMKXddt",
        "outputId": "d730cc5b-55de-41f8-89b1-e7c048c6e478"
      },
      "execution_count": 172,
      "outputs": [
        {
          "output_type": "execute_result",
          "data": {
            "text/plain": [
              "(2911,)"
            ]
          },
          "metadata": {},
          "execution_count": 172
        }
      ]
    },
    {
      "cell_type": "code",
      "source": [
        "print(confusion_matrix(y_test_truevalue,x_test_predictions))"
      ],
      "metadata": {
        "colab": {
          "base_uri": "https://localhost:8080/"
        },
        "id": "zunJ3xwXXfq1",
        "outputId": "ad3bf0c4-4047-467d-b304-46e88a3d4410"
      },
      "execution_count": 173,
      "outputs": [
        {
          "output_type": "stream",
          "name": "stdout",
          "text": [
            "[[388  55 148 166]\n",
            " [279  76 241  90]\n",
            " [160  64 376  86]\n",
            " [214  40  66 462]]\n"
          ]
        }
      ]
    },
    {
      "cell_type": "code",
      "source": [
        "print(classification_report(y_test_truevalue,x_test_predictions))"
      ],
      "metadata": {
        "colab": {
          "base_uri": "https://localhost:8080/"
        },
        "id": "yZUXFt8OXjOb",
        "outputId": "e6999c1a-4732-4e23-f5d7-dd7fc77563d1"
      },
      "execution_count": 174,
      "outputs": [
        {
          "output_type": "stream",
          "name": "stdout",
          "text": [
            "              precision    recall  f1-score   support\n",
            "\n",
            "           0       0.37      0.51      0.43       757\n",
            "           1       0.32      0.11      0.17       686\n",
            "           2       0.45      0.55      0.50       686\n",
            "           3       0.57      0.59      0.58       782\n",
            "\n",
            "    accuracy                           0.45      2911\n",
            "   macro avg       0.43      0.44      0.42      2911\n",
            "weighted avg       0.43      0.45      0.42      2911\n",
            "\n"
          ]
        }
      ]
    },
    {
      "cell_type": "code",
      "source": [
        "# Saving the Model\n",
        "ai_brain.save('customer_classification_model.h5')"
      ],
      "metadata": {
        "id": "Yfm2xFk-Xk67"
      },
      "execution_count": 175,
      "outputs": []
    },
    {
      "cell_type": "code",
      "source": [
        "# Saving the data\n",
        "with open('customer_data.pickle', 'wb') as fh:\n",
        "   pickle.dump([X_train_scaled,y_train,X_test_scaled,y_test,customers_1,customer_df_cleaned,scaler_age,enc,one_hot_enc,le], fh)\n"
      ],
      "metadata": {
        "id": "fsZDSaFDXoyZ"
      },
      "execution_count": 176,
      "outputs": []
    },
    {
      "cell_type": "code",
      "source": [
        "# Loading the Model\n",
        "ai_brain = load_model('customer_classification_model.h5')"
      ],
      "metadata": {
        "id": "P5TvbPezX2Ja"
      },
      "execution_count": 177,
      "outputs": []
    },
    {
      "cell_type": "code",
      "source": [
        "# Loading the data\n",
        "with open('customer_data.pickle', 'rb') as fh:\n",
        "     [X_train_scaled,y_train,X_test_scaled,y_test,customers_1,customer_df_cleaned,scaler_age,enc,one_hot_enc,le]=pickle.load(fh)"
      ],
      "metadata": {
        "id": "YHWl4NQwYNEj"
      },
      "execution_count": 178,
      "outputs": []
    },
    {
      "cell_type": "code",
      "source": [
        "x_single_prediction = np.argmax(ai_brain.predict(X_test_scaled[1:2,:]), axis=1)"
      ],
      "metadata": {
        "colab": {
          "base_uri": "https://localhost:8080/"
        },
        "id": "dwhpQd2XYU0W",
        "outputId": "d29cf332-960a-4cd7-9a72-f2a8a09d7b0e"
      },
      "execution_count": 179,
      "outputs": [
        {
          "output_type": "stream",
          "name": "stdout",
          "text": [
            "1/1 [==============================] - 0s 64ms/step\n"
          ]
        }
      ]
    },
    {
      "cell_type": "code",
      "source": [
        "print(x_single_prediction)"
      ],
      "metadata": {
        "colab": {
          "base_uri": "https://localhost:8080/"
        },
        "id": "t5Y6xrKKYZPR",
        "outputId": "3f6c0cf1-969f-44f3-acd9-00f0b2c5a4d0"
      },
      "execution_count": 180,
      "outputs": [
        {
          "output_type": "stream",
          "name": "stdout",
          "text": [
            "[2]\n"
          ]
        }
      ]
    },
    {
      "cell_type": "code",
      "source": [
        "print(le.inverse_transform(x_single_prediction))"
      ],
      "metadata": {
        "colab": {
          "base_uri": "https://localhost:8080/"
        },
        "id": "-rjVl3PxYbL9",
        "outputId": "c2e01284-9e1c-461e-8a23-14373af95914"
      },
      "execution_count": 181,
      "outputs": [
        {
          "output_type": "stream",
          "name": "stdout",
          "text": [
            "['C']\n"
          ]
        }
      ]
    }
  ]
}